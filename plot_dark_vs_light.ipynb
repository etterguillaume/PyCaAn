{
 "cells": [
  {
   "attachments": {},
   "cell_type": "markdown",
   "metadata": {},
   "source": [
    "# Origins of path integration in CA1\n",
    "Compare portions of time/distance cells vs place cells in light/dark environments, or tone vs no tone conditions\n",
    "\n",
    "### TODO:\n",
    "- Plot timecourse (LT1, LT2, LT3, toneLT1, toneLT2, toneLT3, seqLT1, seqLT2, etc), average for all animals\n",
    "- Normalize per animal!\n",
    "- Information content (AMI distribution) vs specific cell tuning (portion time cells, portion place cells, etc over time)"
   ]
  },
  {
   "cell_type": "code",
   "execution_count": 1,
   "metadata": {},
   "outputs": [],
   "source": [
    "# Imports\n",
    "import matplotlib.pyplot as plt\n",
    "import seaborn as sns\n",
    "plt.style.use('plot_style.mplstyle')\n",
    "\n",
    "import yaml\n",
    "import numpy as np\n",
    "np.random.seed(42)\n",
    "import pingouin as pg\n",
    "import pandas as pd\n",
    "import h5py\n",
    "import os\n",
    "from functions.signal_processing import smooth_1D\n",
    "from tqdm import tqdm\n",
    "\n",
    "# Params\n",
    "with open('params.yaml','r') as file:\n",
    "    params = yaml.full_load(file)"
   ]
  },
  {
   "cell_type": "code",
   "execution_count": 5,
   "metadata": {},
   "outputs": [
    {
     "name": "stderr",
     "output_type": "stream",
     "text": [
      "100%|██████████| 256/256 [00:22<00:00, 11.37it/s]\n"
     ]
    }
   ],
   "source": [
    "sessionList=os.listdir(os.path.join(params['path_to_results'],'tuning_data'))\n",
    "data_list = [] # cell, animal,day,condition,AMI,pvalue\n",
    "sessionList=os.listdir(os.path.join(params['path_to_results'],'tuning_data'))\n",
    "for session in tqdm(sessionList):\n",
    "    if os.path.exists(os.path.join(params['path_to_results'],'tuning_data',session,'info.yaml')): # TODO: Report any file missing\n",
    "        info_file=open(os.path.join(params['path_to_results'],'tuning_data',session,'info.yaml'),'r')\n",
    "        session_info = yaml.full_load(info_file)\n",
    "        spatial_file = h5py.File(os.path.join(params['path_to_results'],'tuning_data',session,'spatial_tuning.h5'), 'r')\n",
    "        temporal_file = h5py.File(os.path.join(params['path_to_results'],'tuning_data',session,'temporal_tuning.h5'), 'r')\n",
    "        distance_file = h5py.File(os.path.join(params['path_to_results'],'tuning_data',session,'distance_tuning.h5'), 'r')\n",
    "        direction_file = h5py.File(os.path.join(params['path_to_results'],'tuning_data',session,'direction_tuning.h5'), 'r')\n",
    "        velocity_file = h5py.File(os.path.join(params['path_to_results'],'tuning_data',session,'velocity_tuning.h5'), 'r')\n",
    "\n",
    "        for i in range(session_info['numNeurons']):\n",
    "            data_list.append( #This will create one list entry per cell\n",
    "                {\n",
    "                    # Basic conditions\n",
    "                    'subject':session_info['subject'],\n",
    "                    'region':session_info['region'],\n",
    "                    'day':session_info['day'],\n",
    "                    'condition':session_info['condition'],\n",
    "                    'task':session_info['task'],\n",
    "                    'darkness':session_info['darkness'],\n",
    "                    'optoStim':session_info['optoStim'],\n",
    "                    'rewards':session_info['rewards'],\n",
    "                    # Info metrics\n",
    "                    'spatial_info':spatial_file['AMI'][i],\n",
    "                    'temporal_info':temporal_file['AMI'][i],\n",
    "                    'distance_info':distance_file['AMI'][i],\n",
    "                    'velocity_info':velocity_file['AMI'][i],\n",
    "                    'heading_info':direction_file['AMI'][i],\n",
    "                    'spatial_pvalue':spatial_file['p_value'][i],\n",
    "                    'temporal_pvalue':temporal_file['p_value'][i],\n",
    "                    'distance_pvalue':distance_file['p_value'][i],\n",
    "                    'velocity_pvalue':velocity_file['p_value'][i],\n",
    "                    'heading_pvalue':direction_file['p_value'][i]\n",
    "                }\n",
    "            )\n",
    "        \n",
    "        # Close files\n",
    "        info_file.close()\n",
    "        temporal_file.close()\n",
    "        spatial_file.close()\n",
    "        distance_file.close()\n",
    "        direction_file.close()\n",
    "        velocity_file.close()\n",
    "\n",
    "df = pd.DataFrame(data_list)"
   ]
  },
  {
   "cell_type": "code",
   "execution_count": 54,
   "metadata": {},
   "outputs": [],
   "source": [
    "## Create sub-data frames\n",
    "CA1_df = df.query(\"region=='CA1' and rewards==True and condition=='normal'\")\n",
    "\n",
    "# Compare tone vs no tone linear track\n",
    "tone_df = CA1_df.query(\"task=='legoLT' or task == 'legoSeqLT'\")\n",
    "\n",
    "# Compare dark vs light conditions\n",
    "dark_df = CA1_df.query(\"task=='legoLT'\")"
   ]
  },
  {
   "cell_type": "code",
   "execution_count": null,
   "metadata": {},
   "outputs": [],
   "source": [
    "# Spatial coding with or without tones\n",
    "plt.figure(figsize=(.75,.75))\n",
    "sns.histplot(LT_spatial_AMI[LT_spatial_pvalue<p_val_threshold],\n",
    "             bins=100,\n",
    "             stat='probability',\n",
    "            #  cumulative=True,\n",
    "             element='poly',\n",
    "             alpha=.1,\n",
    "             color='k',\n",
    "             label='no tones')\n",
    "sns.histplot(seqLT_spatial_AMI[seqLT_spatial_pvalue<p_val_threshold],\n",
    "             bins=100,\n",
    "             stat='probability',\n",
    "            #  cumulative=True,\n",
    "             element='poly',\n",
    "             alpha=.1,\n",
    "             color='C0',\n",
    "             label='tones')\n",
    "plt.plot([np.mean(LT_spatial_AMI[LT_spatial_pvalue<p_val_threshold]),np.mean(LT_spatial_AMI[LT_spatial_pvalue<p_val_threshold])],[0,.1],c='k')\n",
    "plt.plot([np.mean(seqLT_spatial_AMI[seqLT_spatial_pvalue<p_val_threshold]),np.mean(seqLT_spatial_AMI[seqLT_spatial_pvalue<p_val_threshold])],[0,.1],c='C0')\n",
    "#plt.xscale('log')\n",
    "plt.title('Spatial tuning')\n",
    "plt.xlabel('AMI (log scale)')\n",
    "plt.xlim([0.0005,.05])\n",
    "plt.legend(bbox_to_anchor=(1.1, 1), loc='upper left', borderaxespad=0)\n",
    "plt.savefig(os.path.join(params['path_to_results'],'figures', 'cum_dens_elapsed_spatial_noTone_vs_tone.pdf'))"
   ]
  },
  {
   "cell_type": "code",
   "execution_count": null,
   "metadata": {},
   "outputs": [],
   "source": [
    "# Temporal coding with or without tones\n",
    "plt.figure(figsize=(.5,.75))\n",
    "sns.barplot([LT_spatial_AMI[LT_spatial_pvalue<p_val_threshold],seqLT_spatial_AMI[seqLT_spatial_pvalue<p_val_threshold]],\n",
    "             label=['no tones','tones'],\n",
    "             errorbar='se',\n",
    "             capsize=.5,\n",
    "             palette=['k', 'C0']\n",
    "             )\n",
    "plt.title('Spatial tuning')\n",
    "plt.ylabel('AMI')\n",
    "plt.xticks([])\n",
    "plt.legend(bbox_to_anchor=(1.1, 1), loc='upper left', borderaxespad=0)\n",
    "plt.savefig(os.path.join(params['path_to_results'],'figures', 'bar_elapsed_spatial_noTone_vs_tone.pdf'))"
   ]
  },
  {
   "cell_type": "code",
   "execution_count": null,
   "metadata": {},
   "outputs": [],
   "source": [
    "pg.ttest(x=LT_spatial_AMI[LT_spatial_pvalue<p_val_threshold],\n",
    "         y=seqLT_spatial_AMI[seqLT_spatial_pvalue<p_val_threshold])"
   ]
  }
 ],
 "metadata": {
  "kernelspec": {
   "display_name": "Python 3",
   "language": "python",
   "name": "python3"
  },
  "language_info": {
   "codemirror_mode": {
    "name": "ipython",
    "version": 3
   },
   "file_extension": ".py",
   "mimetype": "text/x-python",
   "name": "python",
   "nbconvert_exporter": "python",
   "pygments_lexer": "ipython3",
   "version": "3.10.9"
  },
  "orig_nbformat": 4
 },
 "nbformat": 4,
 "nbformat_minor": 2
}
