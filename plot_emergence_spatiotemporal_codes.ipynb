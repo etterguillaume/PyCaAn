{
 "cells": [
  {
   "attachments": {},
   "cell_type": "markdown",
   "metadata": {},
   "source": [
    "# Origins of path spatiotemporal codes in hippocampal circuit\n",
    "Compare portions of time/distance cells vs place cells in light/dark environments, or tone vs no tone conditions\n",
    "\n",
    "### TODO:\n",
    "- Reward vs no reward LT\n",
    "- LT vs norewards vs toneLT\n",
    "- Plot timecourse (LT1, LT2, LT3, toneLT1, toneLT2, toneLT3, seqLT1, seqLT2, etc), average for all animals\n",
    "- Normalize per animal!\n",
    "- Information content (AMI distribution) vs specific cell tuning (portion time cells, portion place cells, etc over time)"
   ]
  },
  {
   "cell_type": "code",
   "execution_count": 1,
   "metadata": {},
   "outputs": [],
   "source": [
    "# Imports\n",
    "import matplotlib.pyplot as plt\n",
    "import seaborn as sns\n",
    "plt.style.use('plot_style.mplstyle')\n",
    "\n",
    "import yaml\n",
    "import numpy as np\n",
    "np.random.seed(42)\n",
    "import pingouin as pg\n",
    "import pandas as pd\n",
    "import h5py\n",
    "import os\n",
    "from functions.signal_processing import smooth_1D\n",
    "from tqdm import tqdm\n",
    "\n",
    "# Params\n",
    "with open('params.yaml','r') as file:\n",
    "    params = yaml.full_load(file)"
   ]
  },
  {
   "cell_type": "code",
   "execution_count": 2,
   "metadata": {},
   "outputs": [
    {
     "name": "stderr",
     "output_type": "stream",
     "text": [
      "100%|██████████| 256/256 [00:22<00:00, 11.35it/s]\n"
     ]
    }
   ],
   "source": [
    "sessionList=os.listdir(os.path.join(params['path_to_results'],'tuning_data'))\n",
    "data_list = [] # cell, animal,day,condition,AMI,pvalue\n",
    "sessionList=os.listdir(os.path.join(params['path_to_results'],'tuning_data'))\n",
    "for session in tqdm(sessionList):\n",
    "    if os.path.exists(os.path.join(params['path_to_results'],'tuning_data',session,'info.yaml')): # TODO: Report any file missing\n",
    "        info_file=open(os.path.join(params['path_to_results'],'tuning_data',session,'info.yaml'),'r')\n",
    "        session_info = yaml.full_load(info_file)\n",
    "        spatial_file = h5py.File(os.path.join(params['path_to_results'],'tuning_data',session,'spatial_tuning.h5'), 'r')\n",
    "        temporal_file = h5py.File(os.path.join(params['path_to_results'],'tuning_data',session,'temporal_tuning.h5'), 'r')\n",
    "        distance_file = h5py.File(os.path.join(params['path_to_results'],'tuning_data',session,'distance_tuning.h5'), 'r')\n",
    "        direction_file = h5py.File(os.path.join(params['path_to_results'],'tuning_data',session,'direction_tuning.h5'), 'r')\n",
    "        velocity_file = h5py.File(os.path.join(params['path_to_results'],'tuning_data',session,'velocity_tuning.h5'), 'r')\n",
    "\n",
    "        for i in range(session_info['numNeurons']):\n",
    "            data_list.append( #This will create one list entry per cell\n",
    "                {\n",
    "                    # Basic conditions\n",
    "                    'subject':session_info['subject'],\n",
    "                    'region':session_info['region'],\n",
    "                    'day':session_info['day'],\n",
    "                    'condition':session_info['condition'],\n",
    "                    'task':session_info['task'],\n",
    "                    'darkness':session_info['darkness'],\n",
    "                    'optoStim':session_info['optoStim'],\n",
    "                    'rewards':session_info['rewards'],\n",
    "                    # Info metrics\n",
    "                    'spatial_info':spatial_file['AMI'][i],\n",
    "                    'temporal_info':temporal_file['AMI'][i],\n",
    "                    'distance_info':distance_file['AMI'][i],\n",
    "                    'velocity_info':velocity_file['AMI'][i],\n",
    "                    'heading_info':direction_file['AMI'][i],\n",
    "                    'spatial_pvalue':spatial_file['p_value'][i],\n",
    "                    'temporal_pvalue':temporal_file['p_value'][i],\n",
    "                    'distance_pvalue':distance_file['p_value'][i],\n",
    "                    'velocity_pvalue':velocity_file['p_value'][i],\n",
    "                    'heading_pvalue':direction_file['p_value'][i]\n",
    "                }\n",
    "            )\n",
    "        \n",
    "        # Close files\n",
    "        info_file.close()\n",
    "        temporal_file.close()\n",
    "        spatial_file.close()\n",
    "        distance_file.close()\n",
    "        direction_file.close()\n",
    "        velocity_file.close()\n",
    "\n",
    "df = pd.DataFrame(data_list)"
   ]
  },
  {
   "cell_type": "code",
   "execution_count": 3,
   "metadata": {},
   "outputs": [],
   "source": [
    "# Specify the type of maze: linear or open\n",
    "df['maze']=''\n",
    "df.loc[df['task']=='LT','maze']='linear'\n",
    "df.loc[df['task']=='legoLT','maze']='linear'\n",
    "df.loc[df['task']=='legoToneLT','maze']='linear'\n",
    "df.loc[df['task']=='legoSeqLT','maze']='linear'\n",
    "df.loc[df['task']=='OF','maze']='open'\n",
    "df.loc[df['task']=='legoOF','maze']='open'\n",
    "df.loc[df['task']=='plexiOF','maze']='open'"
   ]
  },
  {
   "attachments": {},
   "cell_type": "markdown",
   "metadata": {},
   "source": [
    "# Spatiotemporal information in linear vs open environments"
   ]
  },
  {
   "cell_type": "code",
   "execution_count": 4,
   "metadata": {},
   "outputs": [
    {
     "data": {
      "image/png": "[encoded data removed]",
      "text/plain": [
       "<Figure size 99x150 with 1 Axes>"
      ]
     },
     "metadata": {
      "needs_background": "light"
     },
     "output_type": "display_data"
    }
   ],
   "source": [
    "plt.figure(figsize=(.33,.5))\n",
    "sns.barplot(\n",
    "    data=df.query(\"region=='CA1' and rewards==True and temporal_pvalue<.05\"),\n",
    "    #x='region',\n",
    "    x='maze',\n",
    "    y='temporal_info',\n",
    "    errorbar='se',\n",
    "    palette=['C0','C6'],\n",
    "    errcolor='k',\n",
    "    capsize=.4\n",
    ")\n",
    "n_subjects=len(df.query(\"region=='CA1' and rewards==True and temporal_pvalue<.05\").subject.unique())\n",
    "n_neurons=len(df.query(\"region=='CA1' and rewards==True and temporal_pvalue<.05\").index)\n",
    "plt.title(f'Temporal')\n",
    "plt.ylabel('AMI')\n",
    "plt.xlabel('')\n",
    "plt.xticks([])\n",
    "#plt.legend(bbox_to_anchor=(1.1, 1), loc='upper left', borderaxespad=0)\n",
    "plt.savefig(os.path.join(params['path_to_results'],'figures', 'bar_temporal_open_vs_linear.pdf'))"
   ]
  },
  {
   "cell_type": "code",
   "execution_count": 5,
   "metadata": {},
   "outputs": [],
   "source": [
    "# Stats"
   ]
  },
  {
   "cell_type": "code",
   "execution_count": 6,
   "metadata": {},
   "outputs": [
    {
     "data": {
      "image/png": "[encoded data removed]",
      "text/plain": [
       "<Figure size 99x150 with 1 Axes>"
      ]
     },
     "metadata": {
      "needs_background": "light"
     },
     "output_type": "display_data"
    }
   ],
   "source": [
    "plt.figure(figsize=(.33,.5))\n",
    "sns.barplot(\n",
    "    data=df.query(\"region=='CA1' and rewards==True and spatial_pvalue<.05\"),\n",
    "    #x='region',\n",
    "    x='maze',\n",
    "    y='spatial_info',\n",
    "    errorbar='se',\n",
    "    palette=['C0','C6'],\n",
    "    errcolor='k',\n",
    "    capsize=.4\n",
    ")\n",
    "plt.title(f'Spatial')\n",
    "plt.ylabel('AMI')\n",
    "plt.xlabel('')\n",
    "plt.xticks([])\n",
    "plt.savefig(os.path.join(params['path_to_results'],'figures', 'bar_spatial_open_vs_linear.pdf'))"
   ]
  },
  {
   "cell_type": "code",
   "execution_count": 7,
   "metadata": {},
   "outputs": [
    {
     "data": {
      "image/png": "[encoded data removed]",
      "text/plain": [
       "<Figure size 99x150 with 1 Axes>"
      ]
     },
     "metadata": {
      "needs_background": "light"
     },
     "output_type": "display_data"
    }
   ],
   "source": [
    "plt.figure(figsize=(.33,.5))\n",
    "sns.barplot(\n",
    "    data=df.query(\"region=='CA1' and rewards==True and distance_pvalue<.05\"),\n",
    "    #x='region',\n",
    "    x='maze',\n",
    "    y='distance_info',\n",
    "    errorbar='se',\n",
    "    palette=['C0','C6'],\n",
    "    errcolor='k',\n",
    "    capsize=.4\n",
    ")\n",
    "plt.title(f'Distance')\n",
    "plt.ylabel('AMI')\n",
    "plt.xlabel('')\n",
    "plt.xticks([])\n",
    "#plt.legend(bbox_to_anchor=(1.1, 1), loc='upper left', borderaxespad=0)\n",
    "plt.savefig(os.path.join(params['path_to_results'],'figures', 'bar_distance_open_vs_linear.pdf'))"
   ]
  },
  {
   "cell_type": "code",
   "execution_count": 8,
   "metadata": {},
   "outputs": [
    {
     "data": {
      "image/png": "[encoded data removed]",
      "text/plain": [
       "<Figure size 99x150 with 1 Axes>"
      ]
     },
     "metadata": {
      "needs_background": "light"
     },
     "output_type": "display_data"
    }
   ],
   "source": [
    "plt.figure(figsize=(.33,.5))\n",
    "sns.barplot(\n",
    "    data=df.query(\"region=='CA1' and rewards==True and velocity_pvalue<.05\"),\n",
    "    #x='region',\n",
    "    x='maze',\n",
    "    y='velocity_info',\n",
    "    errorbar='se',\n",
    "    palette=['C0','C6'],\n",
    "    errcolor='k',\n",
    "    capsize=.4\n",
    ")\n",
    "plt.title(f'Velocity')\n",
    "plt.ylabel('AMI')\n",
    "plt.xlabel('')\n",
    "plt.xticks([])\n",
    "#plt.legend(bbox_to_anchor=(1.1, 1), loc='upper left', borderaxespad=0)\n",
    "plt.savefig(os.path.join(params['path_to_results'],'figures', 'bar_velocity_open_vs_linear.pdf'))"
   ]
  },
  {
   "cell_type": "code",
   "execution_count": 9,
   "metadata": {},
   "outputs": [
    {
     "data": {
      "image/png": "[encoded data removed]",
      "text/plain": [
       "<Figure size 99x150 with 1 Axes>"
      ]
     },
     "metadata": {
      "needs_background": "light"
     },
     "output_type": "display_data"
    }
   ],
   "source": [
    "plt.figure(figsize=(.33,.5))\n",
    "sns.barplot(\n",
    "    data=df.query(\"region=='CA1' and rewards==True and heading_pvalue<.05\"),\n",
    "    #x='region',\n",
    "    x='maze',\n",
    "    y='heading_info',\n",
    "    errorbar='se',\n",
    "    palette=['C0','C6'],\n",
    "    errcolor='k',\n",
    "    capsize=.4\n",
    ")\n",
    "plt.title(f'Heading')\n",
    "plt.ylabel('AMI')\n",
    "plt.xlabel('')\n",
    "plt.xticks([])\n",
    "#plt.legend(bbox_to_anchor=(1.1, 1), loc='upper left', borderaxespad=0)\n",
    "plt.savefig(os.path.join(params['path_to_results'],'figures', 'bar_heading_open_vs_linear.pdf'))"
   ]
  },
  {
   "cell_type": "code",
   "execution_count": 10,
   "metadata": {},
   "outputs": [
    {
     "name": "stdout",
     "output_type": "stream",
     "text": [
      "N = 22 subjects, n = 36074 neurons\n"
     ]
    }
   ],
   "source": [
    "# Stats:\n",
    "print(f'N = {n_subjects} subjects, n = {n_neurons} neurons')"
   ]
  },
  {
   "attachments": {},
   "cell_type": "markdown",
   "metadata": {},
   "source": [
    "## Normalize information metrics per animal"
   ]
  },
  {
   "cell_type": "code",
   "execution_count": 31,
   "metadata": {},
   "outputs": [
    {
     "ename": "TypeError",
     "evalue": "'value' must be an instance of str or bytes, not a tuple",
     "output_type": "error",
     "traceback": [
      "\u001b[0;31m---------------------------------------------------------------------------\u001b[0m",
      "\u001b[0;31mTypeError\u001b[0m                                 Traceback (most recent call last)",
      "Cell \u001b[0;32mIn[31], line 1\u001b[0m\n\u001b[0;32m----> 1\u001b[0m plt\u001b[39m.\u001b[39;49mplot(df\u001b[39m.\u001b[39;49mgroupby([\u001b[39m'\u001b[39;49m\u001b[39msubject\u001b[39;49m\u001b[39m'\u001b[39;49m,\u001b[39m'\u001b[39;49m\u001b[39mmaze\u001b[39;49m\u001b[39m'\u001b[39;49m])[\u001b[39m'\u001b[39;49m\u001b[39mspatial_info\u001b[39;49m\u001b[39m'\u001b[39;49m]\u001b[39m.\u001b[39;49mmean())\n",
      "File \u001b[0;32m~/.pyenv/versions/3.10.9/lib/python3.10/site-packages/matplotlib/pyplot.py:2748\u001b[0m, in \u001b[0;36mplot\u001b[0;34m(scalex, scaley, data, *args, **kwargs)\u001b[0m\n\u001b[1;32m   2746\u001b[0m \u001b[39m@_copy_docstring_and_deprecators\u001b[39m(Axes\u001b[39m.\u001b[39mplot)\n\u001b[1;32m   2747\u001b[0m \u001b[39mdef\u001b[39;00m \u001b[39mplot\u001b[39m(\u001b[39m*\u001b[39margs, scalex\u001b[39m=\u001b[39m\u001b[39mTrue\u001b[39;00m, scaley\u001b[39m=\u001b[39m\u001b[39mTrue\u001b[39;00m, data\u001b[39m=\u001b[39m\u001b[39mNone\u001b[39;00m, \u001b[39m*\u001b[39m\u001b[39m*\u001b[39mkwargs):\n\u001b[0;32m-> 2748\u001b[0m     \u001b[39mreturn\u001b[39;00m gca()\u001b[39m.\u001b[39;49mplot(\n\u001b[1;32m   2749\u001b[0m         \u001b[39m*\u001b[39;49margs, scalex\u001b[39m=\u001b[39;49mscalex, scaley\u001b[39m=\u001b[39;49mscaley,\n\u001b[1;32m   2750\u001b[0m         \u001b[39m*\u001b[39;49m\u001b[39m*\u001b[39;49m({\u001b[39m\"\u001b[39;49m\u001b[39mdata\u001b[39;49m\u001b[39m\"\u001b[39;49m: data} \u001b[39mif\u001b[39;49;00m data \u001b[39mis\u001b[39;49;00m \u001b[39mnot\u001b[39;49;00m \u001b[39mNone\u001b[39;49;00m \u001b[39melse\u001b[39;49;00m {}), \u001b[39m*\u001b[39;49m\u001b[39m*\u001b[39;49mkwargs)\n",
      "File \u001b[0;32m~/.pyenv/versions/3.10.9/lib/python3.10/site-packages/matplotlib/axes/_axes.py:1668\u001b[0m, in \u001b[0;36mAxes.plot\u001b[0;34m(self, scalex, scaley, data, *args, **kwargs)\u001b[0m\n\u001b[1;32m   1425\u001b[0m \u001b[39m\u001b[39m\u001b[39m\"\"\"\u001b[39;00m\n\u001b[1;32m   1426\u001b[0m \u001b[39mPlot y versus x as lines and/or markers.\u001b[39;00m\n\u001b[1;32m   1427\u001b[0m \n\u001b[0;32m   (...)\u001b[0m\n\u001b[1;32m   1665\u001b[0m \u001b[39m(``'green'``) or hex strings (``'#008000'``).\u001b[39;00m\n\u001b[1;32m   1666\u001b[0m \u001b[39m\"\"\"\u001b[39;00m\n\u001b[1;32m   1667\u001b[0m kwargs \u001b[39m=\u001b[39m cbook\u001b[39m.\u001b[39mnormalize_kwargs(kwargs, mlines\u001b[39m.\u001b[39mLine2D)\n\u001b[0;32m-> 1668\u001b[0m lines \u001b[39m=\u001b[39m [\u001b[39m*\u001b[39m\u001b[39mself\u001b[39m\u001b[39m.\u001b[39m_get_lines(\u001b[39m*\u001b[39margs, data\u001b[39m=\u001b[39mdata, \u001b[39m*\u001b[39m\u001b[39m*\u001b[39mkwargs)]\n\u001b[1;32m   1669\u001b[0m \u001b[39mfor\u001b[39;00m line \u001b[39min\u001b[39;00m lines:\n\u001b[1;32m   1670\u001b[0m     \u001b[39mself\u001b[39m\u001b[39m.\u001b[39madd_line(line)\n",
      "File \u001b[0;32m~/.pyenv/versions/3.10.9/lib/python3.10/site-packages/matplotlib/axes/_base.py:311\u001b[0m, in \u001b[0;36m_process_plot_var_args.__call__\u001b[0;34m(self, data, *args, **kwargs)\u001b[0m\n\u001b[1;32m    309\u001b[0m     this \u001b[39m+\u001b[39m\u001b[39m=\u001b[39m args[\u001b[39m0\u001b[39m],\n\u001b[1;32m    310\u001b[0m     args \u001b[39m=\u001b[39m args[\u001b[39m1\u001b[39m:]\n\u001b[0;32m--> 311\u001b[0m \u001b[39myield from\u001b[39;00m \u001b[39mself\u001b[39;49m\u001b[39m.\u001b[39;49m_plot_args(\n\u001b[1;32m    312\u001b[0m     this, kwargs, ambiguous_fmt_datakey\u001b[39m=\u001b[39;49mambiguous_fmt_datakey)\n",
      "File \u001b[0;32m~/.pyenv/versions/3.10.9/lib/python3.10/site-packages/matplotlib/axes/_base.py:499\u001b[0m, in \u001b[0;36m_process_plot_var_args._plot_args\u001b[0;34m(self, tup, kwargs, return_kwargs, ambiguous_fmt_datakey)\u001b[0m\n\u001b[1;32m    496\u001b[0m     x, y \u001b[39m=\u001b[39m index_of(xy[\u001b[39m-\u001b[39m\u001b[39m1\u001b[39m])\n\u001b[1;32m    498\u001b[0m \u001b[39mif\u001b[39;00m \u001b[39mself\u001b[39m\u001b[39m.\u001b[39maxes\u001b[39m.\u001b[39mxaxis \u001b[39mis\u001b[39;00m \u001b[39mnot\u001b[39;00m \u001b[39mNone\u001b[39;00m:\n\u001b[0;32m--> 499\u001b[0m     \u001b[39mself\u001b[39;49m\u001b[39m.\u001b[39;49maxes\u001b[39m.\u001b[39;49mxaxis\u001b[39m.\u001b[39;49mupdate_units(x)\n\u001b[1;32m    500\u001b[0m \u001b[39mif\u001b[39;00m \u001b[39mself\u001b[39m\u001b[39m.\u001b[39maxes\u001b[39m.\u001b[39myaxis \u001b[39mis\u001b[39;00m \u001b[39mnot\u001b[39;00m \u001b[39mNone\u001b[39;00m:\n\u001b[1;32m    501\u001b[0m     \u001b[39mself\u001b[39m\u001b[39m.\u001b[39maxes\u001b[39m.\u001b[39myaxis\u001b[39m.\u001b[39mupdate_units(y)\n",
      "File \u001b[0;32m~/.pyenv/versions/3.10.9/lib/python3.10/site-packages/matplotlib/axis.py:1608\u001b[0m, in \u001b[0;36mAxis.update_units\u001b[0;34m(self, data)\u001b[0m\n\u001b[1;32m   1606\u001b[0m neednew \u001b[39m=\u001b[39m \u001b[39mself\u001b[39m\u001b[39m.\u001b[39mconverter \u001b[39m!=\u001b[39m converter\n\u001b[1;32m   1607\u001b[0m \u001b[39mself\u001b[39m\u001b[39m.\u001b[39mconverter \u001b[39m=\u001b[39m converter\n\u001b[0;32m-> 1608\u001b[0m default \u001b[39m=\u001b[39m \u001b[39mself\u001b[39;49m\u001b[39m.\u001b[39;49mconverter\u001b[39m.\u001b[39;49mdefault_units(data, \u001b[39mself\u001b[39;49m)\n\u001b[1;32m   1609\u001b[0m \u001b[39mif\u001b[39;00m default \u001b[39mis\u001b[39;00m \u001b[39mnot\u001b[39;00m \u001b[39mNone\u001b[39;00m \u001b[39mand\u001b[39;00m \u001b[39mself\u001b[39m\u001b[39m.\u001b[39munits \u001b[39mis\u001b[39;00m \u001b[39mNone\u001b[39;00m:\n\u001b[1;32m   1610\u001b[0m     \u001b[39mself\u001b[39m\u001b[39m.\u001b[39mset_units(default)\n",
      "File \u001b[0;32m~/.pyenv/versions/3.10.9/lib/python3.10/site-packages/matplotlib/category.py:116\u001b[0m, in \u001b[0;36mStrCategoryConverter.default_units\u001b[0;34m(data, axis)\u001b[0m\n\u001b[1;32m    114\u001b[0m \u001b[39m# the conversion call stack is default_units -> axis_info -> convert\u001b[39;00m\n\u001b[1;32m    115\u001b[0m \u001b[39mif\u001b[39;00m axis\u001b[39m.\u001b[39munits \u001b[39mis\u001b[39;00m \u001b[39mNone\u001b[39;00m:\n\u001b[0;32m--> 116\u001b[0m     axis\u001b[39m.\u001b[39mset_units(UnitData(data))\n\u001b[1;32m    117\u001b[0m \u001b[39melse\u001b[39;00m:\n\u001b[1;32m    118\u001b[0m     axis\u001b[39m.\u001b[39munits\u001b[39m.\u001b[39mupdate(data)\n",
      "File \u001b[0;32m~/.pyenv/versions/3.10.9/lib/python3.10/site-packages/matplotlib/category.py:192\u001b[0m, in \u001b[0;36mUnitData.__init__\u001b[0;34m(self, data)\u001b[0m\n\u001b[1;32m    190\u001b[0m \u001b[39mself\u001b[39m\u001b[39m.\u001b[39m_counter \u001b[39m=\u001b[39m itertools\u001b[39m.\u001b[39mcount()\n\u001b[1;32m    191\u001b[0m \u001b[39mif\u001b[39;00m data \u001b[39mis\u001b[39;00m \u001b[39mnot\u001b[39;00m \u001b[39mNone\u001b[39;00m:\n\u001b[0;32m--> 192\u001b[0m     \u001b[39mself\u001b[39;49m\u001b[39m.\u001b[39;49mupdate(data)\n",
      "File \u001b[0;32m~/.pyenv/versions/3.10.9/lib/python3.10/site-packages/matplotlib/category.py:227\u001b[0m, in \u001b[0;36mUnitData.update\u001b[0;34m(self, data)\u001b[0m\n\u001b[1;32m    224\u001b[0m convertible \u001b[39m=\u001b[39m \u001b[39mTrue\u001b[39;00m\n\u001b[1;32m    225\u001b[0m \u001b[39mfor\u001b[39;00m val \u001b[39min\u001b[39;00m OrderedDict\u001b[39m.\u001b[39mfromkeys(data):\n\u001b[1;32m    226\u001b[0m     \u001b[39m# OrderedDict just iterates over unique values in data.\u001b[39;00m\n\u001b[0;32m--> 227\u001b[0m     _api\u001b[39m.\u001b[39;49mcheck_isinstance((\u001b[39mstr\u001b[39;49m, \u001b[39mbytes\u001b[39;49m), value\u001b[39m=\u001b[39;49mval)\n\u001b[1;32m    228\u001b[0m     \u001b[39mif\u001b[39;00m convertible:\n\u001b[1;32m    229\u001b[0m         \u001b[39m# this will only be called so long as convertible is True.\u001b[39;00m\n\u001b[1;32m    230\u001b[0m         convertible \u001b[39m=\u001b[39m \u001b[39mself\u001b[39m\u001b[39m.\u001b[39m_str_is_convertible(val)\n",
      "File \u001b[0;32m~/.pyenv/versions/3.10.9/lib/python3.10/site-packages/matplotlib/_api/__init__.py:93\u001b[0m, in \u001b[0;36mcheck_isinstance\u001b[0;34m(_types, **kwargs)\u001b[0m\n\u001b[1;32m     91\u001b[0m     names\u001b[39m.\u001b[39mremove(\u001b[39m\"\u001b[39m\u001b[39mNone\u001b[39m\u001b[39m\"\u001b[39m)\n\u001b[1;32m     92\u001b[0m     names\u001b[39m.\u001b[39mappend(\u001b[39m\"\u001b[39m\u001b[39mNone\u001b[39m\u001b[39m\"\u001b[39m)\n\u001b[0;32m---> 93\u001b[0m \u001b[39mraise\u001b[39;00m \u001b[39mTypeError\u001b[39;00m(\n\u001b[1;32m     94\u001b[0m     \u001b[39m\"\u001b[39m\u001b[39m{!r}\u001b[39;00m\u001b[39m must be an instance of \u001b[39m\u001b[39m{}\u001b[39;00m\u001b[39m, not a \u001b[39m\u001b[39m{}\u001b[39;00m\u001b[39m\"\u001b[39m\u001b[39m.\u001b[39mformat(\n\u001b[1;32m     95\u001b[0m         k,\n\u001b[1;32m     96\u001b[0m         \u001b[39m\"\u001b[39m\u001b[39m, \u001b[39m\u001b[39m\"\u001b[39m\u001b[39m.\u001b[39mjoin(names[:\u001b[39m-\u001b[39m\u001b[39m1\u001b[39m]) \u001b[39m+\u001b[39m \u001b[39m\"\u001b[39m\u001b[39m or \u001b[39m\u001b[39m\"\u001b[39m \u001b[39m+\u001b[39m names[\u001b[39m-\u001b[39m\u001b[39m1\u001b[39m]\n\u001b[1;32m     97\u001b[0m         \u001b[39mif\u001b[39;00m \u001b[39mlen\u001b[39m(names) \u001b[39m>\u001b[39m \u001b[39m1\u001b[39m \u001b[39melse\u001b[39;00m names[\u001b[39m0\u001b[39m],\n\u001b[1;32m     98\u001b[0m         type_name(\u001b[39mtype\u001b[39m(v))))\n",
      "\u001b[0;31mTypeError\u001b[0m: 'value' must be an instance of str or bytes, not a tuple"
     ]
    },
    {
     "data": {
      "image/png": "[encoded data removed]",
      "text/plain": [
       "<Figure size 450x300 with 1 Axes>"
      ]
     },
     "metadata": {
      "needs_background": "light"
     },
     "output_type": "display_data"
    }
   ],
   "source": [
    "df.groupby(['subject','maze'])['spatial_info'].mean()"
   ]
  },
  {
   "cell_type": "code",
   "execution_count": 29,
   "metadata": {},
   "outputs": [
    {
     "ename": "ValueError",
     "evalue": "Could not interpret input 'maze'",
     "output_type": "error",
     "traceback": [
      "\u001b[0;31m---------------------------------------------------------------------------\u001b[0m",
      "\u001b[0;31mValueError\u001b[0m                                Traceback (most recent call last)",
      "Cell \u001b[0;32mIn[29], line 1\u001b[0m\n\u001b[0;32m----> 1\u001b[0m sns\u001b[39m.\u001b[39;49mbarplot(data\u001b[39m=\u001b[39;49mdf\u001b[39m.\u001b[39;49mgroupby([\u001b[39m'\u001b[39;49m\u001b[39msubject\u001b[39;49m\u001b[39m'\u001b[39;49m,\u001b[39m'\u001b[39;49m\u001b[39mmaze\u001b[39;49m\u001b[39m'\u001b[39;49m])[\u001b[39m'\u001b[39;49m\u001b[39mspatial_info\u001b[39;49m\u001b[39m'\u001b[39;49m]\u001b[39m.\u001b[39;49mmean(),x\u001b[39m=\u001b[39;49m\u001b[39m'\u001b[39;49m\u001b[39mmaze\u001b[39;49m\u001b[39m'\u001b[39;49m)\n",
      "File \u001b[0;32m~/.pyenv/versions/3.10.9/lib/python3.10/site-packages/seaborn/categorical.py:2755\u001b[0m, in \u001b[0;36mbarplot\u001b[0;34m(data, x, y, hue, order, hue_order, estimator, errorbar, n_boot, units, seed, orient, color, palette, saturation, width, errcolor, errwidth, capsize, dodge, ci, ax, **kwargs)\u001b[0m\n\u001b[1;32m   2752\u001b[0m \u001b[39mif\u001b[39;00m estimator \u001b[39mis\u001b[39;00m \u001b[39mlen\u001b[39m:\n\u001b[1;32m   2753\u001b[0m     estimator \u001b[39m=\u001b[39m \u001b[39m\"\u001b[39m\u001b[39msize\u001b[39m\u001b[39m\"\u001b[39m\n\u001b[0;32m-> 2755\u001b[0m plotter \u001b[39m=\u001b[39m _BarPlotter(x, y, hue, data, order, hue_order,\n\u001b[1;32m   2756\u001b[0m                       estimator, errorbar, n_boot, units, seed,\n\u001b[1;32m   2757\u001b[0m                       orient, color, palette, saturation,\n\u001b[1;32m   2758\u001b[0m                       width, errcolor, errwidth, capsize, dodge)\n\u001b[1;32m   2760\u001b[0m \u001b[39mif\u001b[39;00m ax \u001b[39mis\u001b[39;00m \u001b[39mNone\u001b[39;00m:\n\u001b[1;32m   2761\u001b[0m     ax \u001b[39m=\u001b[39m plt\u001b[39m.\u001b[39mgca()\n",
      "File \u001b[0;32m~/.pyenv/versions/3.10.9/lib/python3.10/site-packages/seaborn/categorical.py:1530\u001b[0m, in \u001b[0;36m_BarPlotter.__init__\u001b[0;34m(self, x, y, hue, data, order, hue_order, estimator, errorbar, n_boot, units, seed, orient, color, palette, saturation, width, errcolor, errwidth, capsize, dodge)\u001b[0m\n\u001b[1;32m   1525\u001b[0m \u001b[39mdef\u001b[39;00m \u001b[39m__init__\u001b[39m(\u001b[39mself\u001b[39m, x, y, hue, data, order, hue_order,\n\u001b[1;32m   1526\u001b[0m              estimator, errorbar, n_boot, units, seed,\n\u001b[1;32m   1527\u001b[0m              orient, color, palette, saturation, width,\n\u001b[1;32m   1528\u001b[0m              errcolor, errwidth, capsize, dodge):\n\u001b[1;32m   1529\u001b[0m \u001b[39m    \u001b[39m\u001b[39m\"\"\"Initialize the plotter.\"\"\"\u001b[39;00m\n\u001b[0;32m-> 1530\u001b[0m     \u001b[39mself\u001b[39;49m\u001b[39m.\u001b[39;49mestablish_variables(x, y, hue, data, orient,\n\u001b[1;32m   1531\u001b[0m                              order, hue_order, units)\n\u001b[1;32m   1532\u001b[0m     \u001b[39mself\u001b[39m\u001b[39m.\u001b[39mestablish_colors(color, palette, saturation)\n\u001b[1;32m   1533\u001b[0m     \u001b[39mself\u001b[39m\u001b[39m.\u001b[39mestimate_statistic(estimator, errorbar, n_boot, seed)\n",
      "File \u001b[0;32m~/.pyenv/versions/3.10.9/lib/python3.10/site-packages/seaborn/categorical.py:541\u001b[0m, in \u001b[0;36m_CategoricalPlotter.establish_variables\u001b[0;34m(self, x, y, hue, data, orient, order, hue_order, units)\u001b[0m\n\u001b[1;32m    539\u001b[0m     \u001b[39mif\u001b[39;00m \u001b[39misinstance\u001b[39m(var, \u001b[39mstr\u001b[39m):\n\u001b[1;32m    540\u001b[0m         err \u001b[39m=\u001b[39m \u001b[39mf\u001b[39m\u001b[39m\"\u001b[39m\u001b[39mCould not interpret input \u001b[39m\u001b[39m'\u001b[39m\u001b[39m{\u001b[39;00mvar\u001b[39m}\u001b[39;00m\u001b[39m'\u001b[39m\u001b[39m\"\u001b[39m\n\u001b[0;32m--> 541\u001b[0m         \u001b[39mraise\u001b[39;00m \u001b[39mValueError\u001b[39;00m(err)\n\u001b[1;32m    543\u001b[0m \u001b[39m# Figure out the plotting orientation\u001b[39;00m\n\u001b[1;32m    544\u001b[0m orient \u001b[39m=\u001b[39m infer_orient(\n\u001b[1;32m    545\u001b[0m     x, y, orient, require_numeric\u001b[39m=\u001b[39m\u001b[39mself\u001b[39m\u001b[39m.\u001b[39mrequire_numeric\n\u001b[1;32m    546\u001b[0m )\n",
      "\u001b[0;31mValueError\u001b[0m: Could not interpret input 'maze'"
     ]
    }
   ],
   "source": [
    "sns.barplot(data=)"
   ]
  },
  {
   "cell_type": "code",
   "execution_count": null,
   "metadata": {},
   "outputs": [],
   "source": [
    "# Compare tone vs no tone linear track\n",
    "#tone_df = CA1_df.query(\"task=='legoLT' or task == 'legoSeqLT' and optoStim==False\")\n",
    "tone_df = CA1_df.query(\"task=='legoLT' or task == 'legoSeqLT'\")\n",
    "\n",
    "# Compare dark vs light conditions\n",
    "dark_df = CA1_df.query(\"task=='legoLT'\")"
   ]
  },
  {
   "cell_type": "code",
   "execution_count": 170,
   "metadata": {},
   "outputs": [],
   "source": [
    "# Drop animals that do not have legoSeqLT exposure\n",
    "tone_df = tone_df.drop(tone_df.query(\"subject=='M246'\").index)\n",
    "tone_df = tone_df.drop(tone_df.query(\"subject=='M288'\").index)\n",
    "tone_df = tone_df.drop(tone_df.query(\"subject=='M1087'\").index)\n",
    "tone_df = tone_df.drop(tone_df.query(\"subject=='M314'\").index)\n",
    "tone_df = tone_df.drop(tone_df.query(\"subject=='M1090'\").index)\n",
    "tone_df = tone_df.drop(tone_df.query(\"subject=='M1092'\").index)\n",
    "tone_df = tone_df.drop(tone_df.query(\"subject=='M1088'\").index)\n",
    "tone_df = tone_df.drop(tone_df.query(\"subject=='M1046'\").index)"
   ]
  },
  {
   "cell_type": "code",
   "execution_count": 171,
   "metadata": {},
   "outputs": [
    {
     "name": "stderr",
     "output_type": "stream",
     "text": [
      "/var/folders/6w/ytj5_yt9507dd2yb0htxhhfr0000gn/T/ipykernel_9515/2585357743.py:7: SettingWithCopyWarning: \n",
      "A value is trying to be set on a copy of a slice from a DataFrame\n",
      "\n",
      "See the caveats in the documentation: https://pandas.pydata.org/pandas-docs/stable/user_guide/indexing.html#returning-a-view-versus-a-copy\n",
      "  tone_df.day[(tone_df['subject']==subject) & (tone_df['day']==unique_days[j]) & (tone_df['task']=='legoLT')] = sorted_days[j]\n",
      "/var/folders/6w/ytj5_yt9507dd2yb0htxhhfr0000gn/T/ipykernel_9515/2585357743.py:7: SettingWithCopyWarning: \n",
      "A value is trying to be set on a copy of a slice from a DataFrame\n",
      "\n",
      "See the caveats in the documentation: https://pandas.pydata.org/pandas-docs/stable/user_guide/indexing.html#returning-a-view-versus-a-copy\n",
      "  tone_df.day[(tone_df['subject']==subject) & (tone_df['day']==unique_days[j]) & (tone_df['task']=='legoLT')] = sorted_days[j]\n",
      "/var/folders/6w/ytj5_yt9507dd2yb0htxhhfr0000gn/T/ipykernel_9515/2585357743.py:7: SettingWithCopyWarning: \n",
      "A value is trying to be set on a copy of a slice from a DataFrame\n",
      "\n",
      "See the caveats in the documentation: https://pandas.pydata.org/pandas-docs/stable/user_guide/indexing.html#returning-a-view-versus-a-copy\n",
      "  tone_df.day[(tone_df['subject']==subject) & (tone_df['day']==unique_days[j]) & (tone_df['task']=='legoLT')] = sorted_days[j]\n",
      "/var/folders/6w/ytj5_yt9507dd2yb0htxhhfr0000gn/T/ipykernel_9515/2585357743.py:7: SettingWithCopyWarning: \n",
      "A value is trying to be set on a copy of a slice from a DataFrame\n",
      "\n",
      "See the caveats in the documentation: https://pandas.pydata.org/pandas-docs/stable/user_guide/indexing.html#returning-a-view-versus-a-copy\n",
      "  tone_df.day[(tone_df['subject']==subject) & (tone_df['day']==unique_days[j]) & (tone_df['task']=='legoLT')] = sorted_days[j]\n",
      "/var/folders/6w/ytj5_yt9507dd2yb0htxhhfr0000gn/T/ipykernel_9515/2585357743.py:12: SettingWithCopyWarning: \n",
      "A value is trying to be set on a copy of a slice from a DataFrame\n",
      "\n",
      "See the caveats in the documentation: https://pandas.pydata.org/pandas-docs/stable/user_guide/indexing.html#returning-a-view-versus-a-copy\n",
      "  tone_df.day[(tone_df['subject']==subject) & (tone_df['day']==unique_days[j]) & (tone_df['task']=='legoSeqLT')] = sorted_days[j]\n",
      "/var/folders/6w/ytj5_yt9507dd2yb0htxhhfr0000gn/T/ipykernel_9515/2585357743.py:12: SettingWithCopyWarning: \n",
      "A value is trying to be set on a copy of a slice from a DataFrame\n",
      "\n",
      "See the caveats in the documentation: https://pandas.pydata.org/pandas-docs/stable/user_guide/indexing.html#returning-a-view-versus-a-copy\n",
      "  tone_df.day[(tone_df['subject']==subject) & (tone_df['day']==unique_days[j]) & (tone_df['task']=='legoSeqLT')] = sorted_days[j]\n",
      "/var/folders/6w/ytj5_yt9507dd2yb0htxhhfr0000gn/T/ipykernel_9515/2585357743.py:12: SettingWithCopyWarning: \n",
      "A value is trying to be set on a copy of a slice from a DataFrame\n",
      "\n",
      "See the caveats in the documentation: https://pandas.pydata.org/pandas-docs/stable/user_guide/indexing.html#returning-a-view-versus-a-copy\n",
      "  tone_df.day[(tone_df['subject']==subject) & (tone_df['day']==unique_days[j]) & (tone_df['task']=='legoSeqLT')] = sorted_days[j]\n",
      "/var/folders/6w/ytj5_yt9507dd2yb0htxhhfr0000gn/T/ipykernel_9515/2585357743.py:7: SettingWithCopyWarning: \n",
      "A value is trying to be set on a copy of a slice from a DataFrame\n",
      "\n",
      "See the caveats in the documentation: https://pandas.pydata.org/pandas-docs/stable/user_guide/indexing.html#returning-a-view-versus-a-copy\n",
      "  tone_df.day[(tone_df['subject']==subject) & (tone_df['day']==unique_days[j]) & (tone_df['task']=='legoLT')] = sorted_days[j]\n",
      "/var/folders/6w/ytj5_yt9507dd2yb0htxhhfr0000gn/T/ipykernel_9515/2585357743.py:7: SettingWithCopyWarning: \n",
      "A value is trying to be set on a copy of a slice from a DataFrame\n",
      "\n",
      "See the caveats in the documentation: https://pandas.pydata.org/pandas-docs/stable/user_guide/indexing.html#returning-a-view-versus-a-copy\n",
      "  tone_df.day[(tone_df['subject']==subject) & (tone_df['day']==unique_days[j]) & (tone_df['task']=='legoLT')] = sorted_days[j]\n",
      "/var/folders/6w/ytj5_yt9507dd2yb0htxhhfr0000gn/T/ipykernel_9515/2585357743.py:7: SettingWithCopyWarning: \n",
      "A value is trying to be set on a copy of a slice from a DataFrame\n",
      "\n",
      "See the caveats in the documentation: https://pandas.pydata.org/pandas-docs/stable/user_guide/indexing.html#returning-a-view-versus-a-copy\n",
      "  tone_df.day[(tone_df['subject']==subject) & (tone_df['day']==unique_days[j]) & (tone_df['task']=='legoLT')] = sorted_days[j]\n",
      "/var/folders/6w/ytj5_yt9507dd2yb0htxhhfr0000gn/T/ipykernel_9515/2585357743.py:7: SettingWithCopyWarning: \n",
      "A value is trying to be set on a copy of a slice from a DataFrame\n",
      "\n",
      "See the caveats in the documentation: https://pandas.pydata.org/pandas-docs/stable/user_guide/indexing.html#returning-a-view-versus-a-copy\n",
      "  tone_df.day[(tone_df['subject']==subject) & (tone_df['day']==unique_days[j]) & (tone_df['task']=='legoLT')] = sorted_days[j]\n",
      "/var/folders/6w/ytj5_yt9507dd2yb0htxhhfr0000gn/T/ipykernel_9515/2585357743.py:12: SettingWithCopyWarning: \n",
      "A value is trying to be set on a copy of a slice from a DataFrame\n",
      "\n",
      "See the caveats in the documentation: https://pandas.pydata.org/pandas-docs/stable/user_guide/indexing.html#returning-a-view-versus-a-copy\n",
      "  tone_df.day[(tone_df['subject']==subject) & (tone_df['day']==unique_days[j]) & (tone_df['task']=='legoSeqLT')] = sorted_days[j]\n",
      "/var/folders/6w/ytj5_yt9507dd2yb0htxhhfr0000gn/T/ipykernel_9515/2585357743.py:12: SettingWithCopyWarning: \n",
      "A value is trying to be set on a copy of a slice from a DataFrame\n",
      "\n",
      "See the caveats in the documentation: https://pandas.pydata.org/pandas-docs/stable/user_guide/indexing.html#returning-a-view-versus-a-copy\n",
      "  tone_df.day[(tone_df['subject']==subject) & (tone_df['day']==unique_days[j]) & (tone_df['task']=='legoSeqLT')] = sorted_days[j]\n",
      "/var/folders/6w/ytj5_yt9507dd2yb0htxhhfr0000gn/T/ipykernel_9515/2585357743.py:7: SettingWithCopyWarning: \n",
      "A value is trying to be set on a copy of a slice from a DataFrame\n",
      "\n",
      "See the caveats in the documentation: https://pandas.pydata.org/pandas-docs/stable/user_guide/indexing.html#returning-a-view-versus-a-copy\n",
      "  tone_df.day[(tone_df['subject']==subject) & (tone_df['day']==unique_days[j]) & (tone_df['task']=='legoLT')] = sorted_days[j]\n",
      "/var/folders/6w/ytj5_yt9507dd2yb0htxhhfr0000gn/T/ipykernel_9515/2585357743.py:7: SettingWithCopyWarning: \n",
      "A value is trying to be set on a copy of a slice from a DataFrame\n",
      "\n",
      "See the caveats in the documentation: https://pandas.pydata.org/pandas-docs/stable/user_guide/indexing.html#returning-a-view-versus-a-copy\n",
      "  tone_df.day[(tone_df['subject']==subject) & (tone_df['day']==unique_days[j]) & (tone_df['task']=='legoLT')] = sorted_days[j]\n",
      "/var/folders/6w/ytj5_yt9507dd2yb0htxhhfr0000gn/T/ipykernel_9515/2585357743.py:7: SettingWithCopyWarning: \n",
      "A value is trying to be set on a copy of a slice from a DataFrame\n",
      "\n",
      "See the caveats in the documentation: https://pandas.pydata.org/pandas-docs/stable/user_guide/indexing.html#returning-a-view-versus-a-copy\n",
      "  tone_df.day[(tone_df['subject']==subject) & (tone_df['day']==unique_days[j]) & (tone_df['task']=='legoLT')] = sorted_days[j]\n",
      "/var/folders/6w/ytj5_yt9507dd2yb0htxhhfr0000gn/T/ipykernel_9515/2585357743.py:12: SettingWithCopyWarning: \n",
      "A value is trying to be set on a copy of a slice from a DataFrame\n",
      "\n",
      "See the caveats in the documentation: https://pandas.pydata.org/pandas-docs/stable/user_guide/indexing.html#returning-a-view-versus-a-copy\n",
      "  tone_df.day[(tone_df['subject']==subject) & (tone_df['day']==unique_days[j]) & (tone_df['task']=='legoSeqLT')] = sorted_days[j]\n",
      "/var/folders/6w/ytj5_yt9507dd2yb0htxhhfr0000gn/T/ipykernel_9515/2585357743.py:12: SettingWithCopyWarning: \n",
      "A value is trying to be set on a copy of a slice from a DataFrame\n",
      "\n",
      "See the caveats in the documentation: https://pandas.pydata.org/pandas-docs/stable/user_guide/indexing.html#returning-a-view-versus-a-copy\n",
      "  tone_df.day[(tone_df['subject']==subject) & (tone_df['day']==unique_days[j]) & (tone_df['task']=='legoSeqLT')] = sorted_days[j]\n",
      "/var/folders/6w/ytj5_yt9507dd2yb0htxhhfr0000gn/T/ipykernel_9515/2585357743.py:12: SettingWithCopyWarning: \n",
      "A value is trying to be set on a copy of a slice from a DataFrame\n",
      "\n",
      "See the caveats in the documentation: https://pandas.pydata.org/pandas-docs/stable/user_guide/indexing.html#returning-a-view-versus-a-copy\n",
      "  tone_df.day[(tone_df['subject']==subject) & (tone_df['day']==unique_days[j]) & (tone_df['task']=='legoSeqLT')] = sorted_days[j]\n",
      "/var/folders/6w/ytj5_yt9507dd2yb0htxhhfr0000gn/T/ipykernel_9515/2585357743.py:7: SettingWithCopyWarning: \n",
      "A value is trying to be set on a copy of a slice from a DataFrame\n",
      "\n",
      "See the caveats in the documentation: https://pandas.pydata.org/pandas-docs/stable/user_guide/indexing.html#returning-a-view-versus-a-copy\n",
      "  tone_df.day[(tone_df['subject']==subject) & (tone_df['day']==unique_days[j]) & (tone_df['task']=='legoLT')] = sorted_days[j]\n",
      "/var/folders/6w/ytj5_yt9507dd2yb0htxhhfr0000gn/T/ipykernel_9515/2585357743.py:7: SettingWithCopyWarning: \n",
      "A value is trying to be set on a copy of a slice from a DataFrame\n",
      "\n",
      "See the caveats in the documentation: https://pandas.pydata.org/pandas-docs/stable/user_guide/indexing.html#returning-a-view-versus-a-copy\n",
      "  tone_df.day[(tone_df['subject']==subject) & (tone_df['day']==unique_days[j]) & (tone_df['task']=='legoLT')] = sorted_days[j]\n",
      "/var/folders/6w/ytj5_yt9507dd2yb0htxhhfr0000gn/T/ipykernel_9515/2585357743.py:7: SettingWithCopyWarning: \n",
      "A value is trying to be set on a copy of a slice from a DataFrame\n",
      "\n",
      "See the caveats in the documentation: https://pandas.pydata.org/pandas-docs/stable/user_guide/indexing.html#returning-a-view-versus-a-copy\n",
      "  tone_df.day[(tone_df['subject']==subject) & (tone_df['day']==unique_days[j]) & (tone_df['task']=='legoLT')] = sorted_days[j]\n",
      "/var/folders/6w/ytj5_yt9507dd2yb0htxhhfr0000gn/T/ipykernel_9515/2585357743.py:12: SettingWithCopyWarning: \n",
      "A value is trying to be set on a copy of a slice from a DataFrame\n",
      "\n",
      "See the caveats in the documentation: https://pandas.pydata.org/pandas-docs/stable/user_guide/indexing.html#returning-a-view-versus-a-copy\n",
      "  tone_df.day[(tone_df['subject']==subject) & (tone_df['day']==unique_days[j]) & (tone_df['task']=='legoSeqLT')] = sorted_days[j]\n",
      "/var/folders/6w/ytj5_yt9507dd2yb0htxhhfr0000gn/T/ipykernel_9515/2585357743.py:12: SettingWithCopyWarning: \n",
      "A value is trying to be set on a copy of a slice from a DataFrame\n",
      "\n",
      "See the caveats in the documentation: https://pandas.pydata.org/pandas-docs/stable/user_guide/indexing.html#returning-a-view-versus-a-copy\n",
      "  tone_df.day[(tone_df['subject']==subject) & (tone_df['day']==unique_days[j]) & (tone_df['task']=='legoSeqLT')] = sorted_days[j]\n",
      "/var/folders/6w/ytj5_yt9507dd2yb0htxhhfr0000gn/T/ipykernel_9515/2585357743.py:12: SettingWithCopyWarning: \n",
      "A value is trying to be set on a copy of a slice from a DataFrame\n",
      "\n",
      "See the caveats in the documentation: https://pandas.pydata.org/pandas-docs/stable/user_guide/indexing.html#returning-a-view-versus-a-copy\n",
      "  tone_df.day[(tone_df['subject']==subject) & (tone_df['day']==unique_days[j]) & (tone_df['task']=='legoSeqLT')] = sorted_days[j]\n",
      "/var/folders/6w/ytj5_yt9507dd2yb0htxhhfr0000gn/T/ipykernel_9515/2585357743.py:12: SettingWithCopyWarning: \n",
      "A value is trying to be set on a copy of a slice from a DataFrame\n",
      "\n",
      "See the caveats in the documentation: https://pandas.pydata.org/pandas-docs/stable/user_guide/indexing.html#returning-a-view-versus-a-copy\n",
      "  tone_df.day[(tone_df['subject']==subject) & (tone_df['day']==unique_days[j]) & (tone_df['task']=='legoSeqLT')] = sorted_days[j]\n",
      "/var/folders/6w/ytj5_yt9507dd2yb0htxhhfr0000gn/T/ipykernel_9515/2585357743.py:7: SettingWithCopyWarning: \n",
      "A value is trying to be set on a copy of a slice from a DataFrame\n",
      "\n",
      "See the caveats in the documentation: https://pandas.pydata.org/pandas-docs/stable/user_guide/indexing.html#returning-a-view-versus-a-copy\n",
      "  tone_df.day[(tone_df['subject']==subject) & (tone_df['day']==unique_days[j]) & (tone_df['task']=='legoLT')] = sorted_days[j]\n",
      "/var/folders/6w/ytj5_yt9507dd2yb0htxhhfr0000gn/T/ipykernel_9515/2585357743.py:7: SettingWithCopyWarning: \n",
      "A value is trying to be set on a copy of a slice from a DataFrame\n",
      "\n",
      "See the caveats in the documentation: https://pandas.pydata.org/pandas-docs/stable/user_guide/indexing.html#returning-a-view-versus-a-copy\n",
      "  tone_df.day[(tone_df['subject']==subject) & (tone_df['day']==unique_days[j]) & (tone_df['task']=='legoLT')] = sorted_days[j]\n",
      "/var/folders/6w/ytj5_yt9507dd2yb0htxhhfr0000gn/T/ipykernel_9515/2585357743.py:7: SettingWithCopyWarning: \n",
      "A value is trying to be set on a copy of a slice from a DataFrame\n",
      "\n",
      "See the caveats in the documentation: https://pandas.pydata.org/pandas-docs/stable/user_guide/indexing.html#returning-a-view-versus-a-copy\n",
      "  tone_df.day[(tone_df['subject']==subject) & (tone_df['day']==unique_days[j]) & (tone_df['task']=='legoLT')] = sorted_days[j]\n",
      "/var/folders/6w/ytj5_yt9507dd2yb0htxhhfr0000gn/T/ipykernel_9515/2585357743.py:7: SettingWithCopyWarning: \n",
      "A value is trying to be set on a copy of a slice from a DataFrame\n",
      "\n",
      "See the caveats in the documentation: https://pandas.pydata.org/pandas-docs/stable/user_guide/indexing.html#returning-a-view-versus-a-copy\n",
      "  tone_df.day[(tone_df['subject']==subject) & (tone_df['day']==unique_days[j]) & (tone_df['task']=='legoLT')] = sorted_days[j]\n",
      "/var/folders/6w/ytj5_yt9507dd2yb0htxhhfr0000gn/T/ipykernel_9515/2585357743.py:7: SettingWithCopyWarning: \n",
      "A value is trying to be set on a copy of a slice from a DataFrame\n",
      "\n",
      "See the caveats in the documentation: https://pandas.pydata.org/pandas-docs/stable/user_guide/indexing.html#returning-a-view-versus-a-copy\n",
      "  tone_df.day[(tone_df['subject']==subject) & (tone_df['day']==unique_days[j]) & (tone_df['task']=='legoLT')] = sorted_days[j]\n",
      "/var/folders/6w/ytj5_yt9507dd2yb0htxhhfr0000gn/T/ipykernel_9515/2585357743.py:7: SettingWithCopyWarning: \n",
      "A value is trying to be set on a copy of a slice from a DataFrame\n",
      "\n",
      "See the caveats in the documentation: https://pandas.pydata.org/pandas-docs/stable/user_guide/indexing.html#returning-a-view-versus-a-copy\n",
      "  tone_df.day[(tone_df['subject']==subject) & (tone_df['day']==unique_days[j]) & (tone_df['task']=='legoLT')] = sorted_days[j]\n",
      "/var/folders/6w/ytj5_yt9507dd2yb0htxhhfr0000gn/T/ipykernel_9515/2585357743.py:12: SettingWithCopyWarning: \n",
      "A value is trying to be set on a copy of a slice from a DataFrame\n",
      "\n",
      "See the caveats in the documentation: https://pandas.pydata.org/pandas-docs/stable/user_guide/indexing.html#returning-a-view-versus-a-copy\n",
      "  tone_df.day[(tone_df['subject']==subject) & (tone_df['day']==unique_days[j]) & (tone_df['task']=='legoSeqLT')] = sorted_days[j]\n",
      "/var/folders/6w/ytj5_yt9507dd2yb0htxhhfr0000gn/T/ipykernel_9515/2585357743.py:12: SettingWithCopyWarning: \n",
      "A value is trying to be set on a copy of a slice from a DataFrame\n",
      "\n",
      "See the caveats in the documentation: https://pandas.pydata.org/pandas-docs/stable/user_guide/indexing.html#returning-a-view-versus-a-copy\n",
      "  tone_df.day[(tone_df['subject']==subject) & (tone_df['day']==unique_days[j]) & (tone_df['task']=='legoSeqLT')] = sorted_days[j]\n",
      "/var/folders/6w/ytj5_yt9507dd2yb0htxhhfr0000gn/T/ipykernel_9515/2585357743.py:12: SettingWithCopyWarning: \n",
      "A value is trying to be set on a copy of a slice from a DataFrame\n",
      "\n",
      "See the caveats in the documentation: https://pandas.pydata.org/pandas-docs/stable/user_guide/indexing.html#returning-a-view-versus-a-copy\n",
      "  tone_df.day[(tone_df['subject']==subject) & (tone_df['day']==unique_days[j]) & (tone_df['task']=='legoSeqLT')] = sorted_days[j]\n",
      "/var/folders/6w/ytj5_yt9507dd2yb0htxhhfr0000gn/T/ipykernel_9515/2585357743.py:12: SettingWithCopyWarning: \n",
      "A value is trying to be set on a copy of a slice from a DataFrame\n",
      "\n",
      "See the caveats in the documentation: https://pandas.pydata.org/pandas-docs/stable/user_guide/indexing.html#returning-a-view-versus-a-copy\n",
      "  tone_df.day[(tone_df['subject']==subject) & (tone_df['day']==unique_days[j]) & (tone_df['task']=='legoSeqLT')] = sorted_days[j]\n"
     ]
    }
   ],
   "source": [
    "# For each subject, reset day count from 0\n",
    "# This is to convert from date (e.g. 20180602) to the actual number of previously experienced days (e.g 3)\n",
    "for subject in tone_df.subject.unique():\n",
    "    unique_days = tone_df.loc[(tone_df.subject==subject) & (tone_df.task=='legoLT'),'day'].unique()\n",
    "    sorted_days=np.argsort(unique_days)\n",
    "    for j in range(len(unique_days)):\n",
    "        tone_df.day[(tone_df['subject']==subject) & (tone_df['day']==unique_days[j]) & (tone_df['task']=='legoLT')] = sorted_days[j]\n",
    "\n",
    "    unique_days = tone_df.loc[(tone_df.subject==subject) & (tone_df.task=='legoSeqLT'),'day'].unique()\n",
    "    sorted_days=np.argsort(unique_days)\n",
    "    for j in range(len(unique_days)):\n",
    "        tone_df.day[(tone_df['subject']==subject) & (tone_df['day']==unique_days[j]) & (tone_df['task']=='legoSeqLT')] = sorted_days[j]\n"
   ]
  },
  {
   "cell_type": "code",
   "execution_count": 175,
   "metadata": {},
   "outputs": [],
   "source": [
    "# Only keep first 3 days of exposure\n",
    "tone_df = tone_df.drop(tone_df.query(\"day>3\").index)"
   ]
  },
  {
   "cell_type": "code",
   "execution_count": 176,
   "metadata": {},
   "outputs": [
    {
     "data": {
      "image/png": "[encoded data removed]",
      "text/plain": [
       "<Figure size 225x225 with 1 Axes>"
      ]
     },
     "metadata": {
      "needs_background": "light"
     },
     "output_type": "display_data"
    }
   ],
   "source": [
    "# Spatial coding with or without tones\n",
    "plt.figure(figsize=(.75,.75))\n",
    "sns.histplot(\n",
    "             data=tone_df.query(\"task=='legoLT' and spatial_pvalue<.05\"),\n",
    "             x='spatial_info',\n",
    "             bins=50,\n",
    "             stat='probability',\n",
    "             element='poly',\n",
    "             alpha=.1,\n",
    "             color='k',\n",
    "             label='no tones')\n",
    "sns.histplot(\n",
    "             data=tone_df.query(\"task=='legoSeqLT' and spatial_pvalue<.05\"),\n",
    "             x='spatial_info',\n",
    "             bins=50,\n",
    "             stat='probability',\n",
    "             element='poly',\n",
    "             alpha=.1,\n",
    "             color='C0',\n",
    "             label='tones')\n",
    "#plt.xscale('log')\n",
    "plt.title('Spatial tuning')\n",
    "plt.xlabel('AMI')\n",
    "plt.xlim([0,.025])\n",
    "plt.legend(bbox_to_anchor=(1.1, 1), loc='upper left', borderaxespad=0)\n",
    "plt.savefig(os.path.join(params['path_to_results'],'figures', 'probhist_elapsed_spatial_noTone_vs_tone.pdf'))"
   ]
  },
  {
   "cell_type": "code",
   "execution_count": 187,
   "metadata": {},
   "outputs": [
    {
     "ename": "KeyboardInterrupt",
     "evalue": "",
     "output_type": "error",
     "traceback": [
      "\u001b[0;31m---------------------------------------------------------------------------\u001b[0m",
      "\u001b[0;31mKeyboardInterrupt\u001b[0m                         Traceback (most recent call last)",
      "Cell \u001b[0;32mIn[187], line 3\u001b[0m\n\u001b[1;32m      1\u001b[0m \u001b[39m# Temporal coding with or without tones\u001b[39;00m\n\u001b[1;32m      2\u001b[0m plt\u001b[39m.\u001b[39mfigure(figsize\u001b[39m=\u001b[39m(\u001b[39m.5\u001b[39m,\u001b[39m.75\u001b[39m))\n\u001b[0;32m----> 3\u001b[0m sns\u001b[39m.\u001b[39;49mswarmplot(\n\u001b[1;32m      4\u001b[0m             data\u001b[39m=\u001b[39;49mtone_df\u001b[39m.\u001b[39;49mquery(\u001b[39m\"\u001b[39;49m\u001b[39mspatial_pvalue<.05\u001b[39;49m\u001b[39m\"\u001b[39;49m),\n\u001b[1;32m      5\u001b[0m             x\u001b[39m=\u001b[39;49m\u001b[39m'\u001b[39;49m\u001b[39mday\u001b[39;49m\u001b[39m'\u001b[39;49m,\n\u001b[1;32m      6\u001b[0m             hue\u001b[39m=\u001b[39;49m\u001b[39m'\u001b[39;49m\u001b[39mtask\u001b[39;49m\u001b[39m'\u001b[39;49m,\n\u001b[1;32m      7\u001b[0m             y\u001b[39m=\u001b[39;49m\u001b[39m'\u001b[39;49m\u001b[39mspatial_info\u001b[39;49m\u001b[39m'\u001b[39;49m,\n\u001b[1;32m      8\u001b[0m             \u001b[39m#label=['no tones','tones'],\u001b[39;49;00m\n\u001b[1;32m      9\u001b[0m             \u001b[39m#errorbar='se',\u001b[39;49;00m\n\u001b[1;32m     10\u001b[0m             \u001b[39m#capsize=.5,\u001b[39;49;00m\n\u001b[1;32m     11\u001b[0m             palette\u001b[39m=\u001b[39;49m[\u001b[39m'\u001b[39;49m\u001b[39mk\u001b[39;49m\u001b[39m'\u001b[39;49m, \u001b[39m'\u001b[39;49m\u001b[39mC0\u001b[39;49m\u001b[39m'\u001b[39;49m]\n\u001b[1;32m     12\u001b[0m             )\n\u001b[1;32m     13\u001b[0m plt\u001b[39m.\u001b[39mtitle(\u001b[39m'\u001b[39m\u001b[39mSpatial tuning\u001b[39m\u001b[39m'\u001b[39m)\n\u001b[1;32m     14\u001b[0m plt\u001b[39m.\u001b[39mylabel(\u001b[39m'\u001b[39m\u001b[39mAMI\u001b[39m\u001b[39m'\u001b[39m)\n",
      "File \u001b[0;32m~/.pyenv/versions/3.10.9/lib/python3.10/site-packages/seaborn/categorical.py:2664\u001b[0m, in \u001b[0;36mswarmplot\u001b[0;34m(data, x, y, hue, order, hue_order, dodge, orient, color, palette, size, edgecolor, linewidth, hue_norm, native_scale, formatter, legend, warn_thresh, ax, **kwargs)\u001b[0m\n\u001b[1;32m   2657\u001b[0m     linewidth \u001b[39m=\u001b[39m size \u001b[39m/\u001b[39m \u001b[39m10\u001b[39m\n\u001b[1;32m   2659\u001b[0m kwargs\u001b[39m.\u001b[39mupdate(\u001b[39mdict\u001b[39m(\n\u001b[1;32m   2660\u001b[0m     s\u001b[39m=\u001b[39msize \u001b[39m*\u001b[39m\u001b[39m*\u001b[39m \u001b[39m2\u001b[39m,\n\u001b[1;32m   2661\u001b[0m     linewidth\u001b[39m=\u001b[39mlinewidth,\n\u001b[1;32m   2662\u001b[0m ))\n\u001b[0;32m-> 2664\u001b[0m p\u001b[39m.\u001b[39;49mplot_swarms(\n\u001b[1;32m   2665\u001b[0m     dodge\u001b[39m=\u001b[39;49mdodge,\n\u001b[1;32m   2666\u001b[0m     color\u001b[39m=\u001b[39;49mcolor,\n\u001b[1;32m   2667\u001b[0m     edgecolor\u001b[39m=\u001b[39;49medgecolor,\n\u001b[1;32m   2668\u001b[0m     warn_thresh\u001b[39m=\u001b[39;49mwarn_thresh,\n\u001b[1;32m   2669\u001b[0m     plot_kws\u001b[39m=\u001b[39;49mkwargs,\n\u001b[1;32m   2670\u001b[0m )\n\u001b[1;32m   2672\u001b[0m p\u001b[39m.\u001b[39m_add_axis_labels(ax)\n\u001b[1;32m   2673\u001b[0m p\u001b[39m.\u001b[39m_adjust_cat_axis(ax, axis\u001b[39m=\u001b[39mp\u001b[39m.\u001b[39mcat_axis)\n",
      "File \u001b[0;32m~/.pyenv/versions/3.10.9/lib/python3.10/site-packages/seaborn/categorical.py:399\u001b[0m, in \u001b[0;36m_CategoricalPlotterNew.plot_swarms\u001b[0;34m(self, dodge, color, edgecolor, warn_thresh, plot_kws)\u001b[0m\n\u001b[1;32m    395\u001b[0m             \u001b[39msuper\u001b[39m(points\u001b[39m.\u001b[39m\u001b[39m__class__\u001b[39m, points)\u001b[39m.\u001b[39mdraw(renderer)\n\u001b[1;32m    397\u001b[0m         points\u001b[39m.\u001b[39mdraw \u001b[39m=\u001b[39m draw\u001b[39m.\u001b[39m\u001b[39m__get__\u001b[39m(points)\n\u001b[0;32m--> 399\u001b[0m _draw_figure(ax\u001b[39m.\u001b[39;49mfigure)\n\u001b[1;32m    401\u001b[0m \u001b[39m# Finalize the axes details\u001b[39;00m\n\u001b[1;32m    402\u001b[0m \u001b[39mif\u001b[39;00m \u001b[39mself\u001b[39m\u001b[39m.\u001b[39mlegend \u001b[39m==\u001b[39m \u001b[39m\"\u001b[39m\u001b[39mauto\u001b[39m\u001b[39m\"\u001b[39m:\n",
      "File \u001b[0;32m~/.pyenv/versions/3.10.9/lib/python3.10/site-packages/seaborn/utils.py:80\u001b[0m, in \u001b[0;36m_draw_figure\u001b[0;34m(fig)\u001b[0m\n\u001b[1;32m     78\u001b[0m \u001b[39m\u001b[39m\u001b[39m\"\"\"Force draw of a matplotlib figure, accounting for back-compat.\"\"\"\u001b[39;00m\n\u001b[1;32m     79\u001b[0m \u001b[39m# See https://github.com/matplotlib/matplotlib/issues/19197 for context\u001b[39;00m\n\u001b[0;32m---> 80\u001b[0m fig\u001b[39m.\u001b[39;49mcanvas\u001b[39m.\u001b[39;49mdraw()\n\u001b[1;32m     81\u001b[0m \u001b[39mif\u001b[39;00m fig\u001b[39m.\u001b[39mstale:\n\u001b[1;32m     82\u001b[0m     \u001b[39mtry\u001b[39;00m:\n",
      "File \u001b[0;32m~/.pyenv/versions/3.10.9/lib/python3.10/site-packages/matplotlib/backends/backend_agg.py:405\u001b[0m, in \u001b[0;36mFigureCanvasAgg.draw\u001b[0;34m(self)\u001b[0m\n\u001b[1;32m    401\u001b[0m \u001b[39m# Acquire a lock on the shared font cache.\u001b[39;00m\n\u001b[1;32m    402\u001b[0m \u001b[39mwith\u001b[39;00m RendererAgg\u001b[39m.\u001b[39mlock, \\\n\u001b[1;32m    403\u001b[0m      (\u001b[39mself\u001b[39m\u001b[39m.\u001b[39mtoolbar\u001b[39m.\u001b[39m_wait_cursor_for_draw_cm() \u001b[39mif\u001b[39;00m \u001b[39mself\u001b[39m\u001b[39m.\u001b[39mtoolbar\n\u001b[1;32m    404\u001b[0m       \u001b[39melse\u001b[39;00m nullcontext()):\n\u001b[0;32m--> 405\u001b[0m     \u001b[39mself\u001b[39;49m\u001b[39m.\u001b[39;49mfigure\u001b[39m.\u001b[39;49mdraw(\u001b[39mself\u001b[39;49m\u001b[39m.\u001b[39;49mrenderer)\n\u001b[1;32m    406\u001b[0m     \u001b[39m# A GUI class may be need to update a window using this draw, so\u001b[39;00m\n\u001b[1;32m    407\u001b[0m     \u001b[39m# don't forget to call the superclass.\u001b[39;00m\n\u001b[1;32m    408\u001b[0m     \u001b[39msuper\u001b[39m()\u001b[39m.\u001b[39mdraw()\n",
      "File \u001b[0;32m~/.pyenv/versions/3.10.9/lib/python3.10/site-packages/matplotlib/artist.py:74\u001b[0m, in \u001b[0;36m_finalize_rasterization.<locals>.draw_wrapper\u001b[0;34m(artist, renderer, *args, **kwargs)\u001b[0m\n\u001b[1;32m     72\u001b[0m \u001b[39m@wraps\u001b[39m(draw)\n\u001b[1;32m     73\u001b[0m \u001b[39mdef\u001b[39;00m \u001b[39mdraw_wrapper\u001b[39m(artist, renderer, \u001b[39m*\u001b[39margs, \u001b[39m*\u001b[39m\u001b[39m*\u001b[39mkwargs):\n\u001b[0;32m---> 74\u001b[0m     result \u001b[39m=\u001b[39m draw(artist, renderer, \u001b[39m*\u001b[39;49margs, \u001b[39m*\u001b[39;49m\u001b[39m*\u001b[39;49mkwargs)\n\u001b[1;32m     75\u001b[0m     \u001b[39mif\u001b[39;00m renderer\u001b[39m.\u001b[39m_rasterizing:\n\u001b[1;32m     76\u001b[0m         renderer\u001b[39m.\u001b[39mstop_rasterizing()\n",
      "File \u001b[0;32m~/.pyenv/versions/3.10.9/lib/python3.10/site-packages/matplotlib/artist.py:51\u001b[0m, in \u001b[0;36mallow_rasterization.<locals>.draw_wrapper\u001b[0;34m(artist, renderer)\u001b[0m\n\u001b[1;32m     48\u001b[0m     \u001b[39mif\u001b[39;00m artist\u001b[39m.\u001b[39mget_agg_filter() \u001b[39mis\u001b[39;00m \u001b[39mnot\u001b[39;00m \u001b[39mNone\u001b[39;00m:\n\u001b[1;32m     49\u001b[0m         renderer\u001b[39m.\u001b[39mstart_filter()\n\u001b[0;32m---> 51\u001b[0m     \u001b[39mreturn\u001b[39;00m draw(artist, renderer)\n\u001b[1;32m     52\u001b[0m \u001b[39mfinally\u001b[39;00m:\n\u001b[1;32m     53\u001b[0m     \u001b[39mif\u001b[39;00m artist\u001b[39m.\u001b[39mget_agg_filter() \u001b[39mis\u001b[39;00m \u001b[39mnot\u001b[39;00m \u001b[39mNone\u001b[39;00m:\n",
      "File \u001b[0;32m~/.pyenv/versions/3.10.9/lib/python3.10/site-packages/matplotlib/figure.py:3082\u001b[0m, in \u001b[0;36mFigure.draw\u001b[0;34m(self, renderer)\u001b[0m\n\u001b[1;32m   3079\u001b[0m         \u001b[39m# ValueError can occur when resizing a window.\u001b[39;00m\n\u001b[1;32m   3081\u001b[0m \u001b[39mself\u001b[39m\u001b[39m.\u001b[39mpatch\u001b[39m.\u001b[39mdraw(renderer)\n\u001b[0;32m-> 3082\u001b[0m mimage\u001b[39m.\u001b[39;49m_draw_list_compositing_images(\n\u001b[1;32m   3083\u001b[0m     renderer, \u001b[39mself\u001b[39;49m, artists, \u001b[39mself\u001b[39;49m\u001b[39m.\u001b[39;49msuppressComposite)\n\u001b[1;32m   3085\u001b[0m \u001b[39mfor\u001b[39;00m sfig \u001b[39min\u001b[39;00m \u001b[39mself\u001b[39m\u001b[39m.\u001b[39msubfigs:\n\u001b[1;32m   3086\u001b[0m     sfig\u001b[39m.\u001b[39mdraw(renderer)\n",
      "File \u001b[0;32m~/.pyenv/versions/3.10.9/lib/python3.10/site-packages/matplotlib/image.py:131\u001b[0m, in \u001b[0;36m_draw_list_compositing_images\u001b[0;34m(renderer, parent, artists, suppress_composite)\u001b[0m\n\u001b[1;32m    129\u001b[0m \u001b[39mif\u001b[39;00m not_composite \u001b[39mor\u001b[39;00m \u001b[39mnot\u001b[39;00m has_images:\n\u001b[1;32m    130\u001b[0m     \u001b[39mfor\u001b[39;00m a \u001b[39min\u001b[39;00m artists:\n\u001b[0;32m--> 131\u001b[0m         a\u001b[39m.\u001b[39;49mdraw(renderer)\n\u001b[1;32m    132\u001b[0m \u001b[39melse\u001b[39;00m:\n\u001b[1;32m    133\u001b[0m     \u001b[39m# Composite any adjacent images together\u001b[39;00m\n\u001b[1;32m    134\u001b[0m     image_group \u001b[39m=\u001b[39m []\n",
      "File \u001b[0;32m~/.pyenv/versions/3.10.9/lib/python3.10/site-packages/matplotlib/artist.py:51\u001b[0m, in \u001b[0;36mallow_rasterization.<locals>.draw_wrapper\u001b[0;34m(artist, renderer)\u001b[0m\n\u001b[1;32m     48\u001b[0m     \u001b[39mif\u001b[39;00m artist\u001b[39m.\u001b[39mget_agg_filter() \u001b[39mis\u001b[39;00m \u001b[39mnot\u001b[39;00m \u001b[39mNone\u001b[39;00m:\n\u001b[1;32m     49\u001b[0m         renderer\u001b[39m.\u001b[39mstart_filter()\n\u001b[0;32m---> 51\u001b[0m     \u001b[39mreturn\u001b[39;00m draw(artist, renderer)\n\u001b[1;32m     52\u001b[0m \u001b[39mfinally\u001b[39;00m:\n\u001b[1;32m     53\u001b[0m     \u001b[39mif\u001b[39;00m artist\u001b[39m.\u001b[39mget_agg_filter() \u001b[39mis\u001b[39;00m \u001b[39mnot\u001b[39;00m \u001b[39mNone\u001b[39;00m:\n",
      "File \u001b[0;32m~/.pyenv/versions/3.10.9/lib/python3.10/site-packages/matplotlib/axes/_base.py:3100\u001b[0m, in \u001b[0;36m_AxesBase.draw\u001b[0;34m(self, renderer)\u001b[0m\n\u001b[1;32m   3097\u001b[0m         a\u001b[39m.\u001b[39mdraw(renderer)\n\u001b[1;32m   3098\u001b[0m     renderer\u001b[39m.\u001b[39mstop_rasterizing()\n\u001b[0;32m-> 3100\u001b[0m mimage\u001b[39m.\u001b[39;49m_draw_list_compositing_images(\n\u001b[1;32m   3101\u001b[0m     renderer, \u001b[39mself\u001b[39;49m, artists, \u001b[39mself\u001b[39;49m\u001b[39m.\u001b[39;49mfigure\u001b[39m.\u001b[39;49msuppressComposite)\n\u001b[1;32m   3103\u001b[0m renderer\u001b[39m.\u001b[39mclose_group(\u001b[39m'\u001b[39m\u001b[39maxes\u001b[39m\u001b[39m'\u001b[39m)\n\u001b[1;32m   3104\u001b[0m \u001b[39mself\u001b[39m\u001b[39m.\u001b[39mstale \u001b[39m=\u001b[39m \u001b[39mFalse\u001b[39;00m\n",
      "File \u001b[0;32m~/.pyenv/versions/3.10.9/lib/python3.10/site-packages/matplotlib/image.py:131\u001b[0m, in \u001b[0;36m_draw_list_compositing_images\u001b[0;34m(renderer, parent, artists, suppress_composite)\u001b[0m\n\u001b[1;32m    129\u001b[0m \u001b[39mif\u001b[39;00m not_composite \u001b[39mor\u001b[39;00m \u001b[39mnot\u001b[39;00m has_images:\n\u001b[1;32m    130\u001b[0m     \u001b[39mfor\u001b[39;00m a \u001b[39min\u001b[39;00m artists:\n\u001b[0;32m--> 131\u001b[0m         a\u001b[39m.\u001b[39;49mdraw(renderer)\n\u001b[1;32m    132\u001b[0m \u001b[39melse\u001b[39;00m:\n\u001b[1;32m    133\u001b[0m     \u001b[39m# Composite any adjacent images together\u001b[39;00m\n\u001b[1;32m    134\u001b[0m     image_group \u001b[39m=\u001b[39m []\n",
      "File \u001b[0;32m~/.pyenv/versions/3.10.9/lib/python3.10/site-packages/seaborn/categorical.py:377\u001b[0m, in \u001b[0;36m_CategoricalPlotterNew.plot_swarms.<locals>.draw\u001b[0;34m(points, renderer, center)\u001b[0m\n\u001b[1;32m    375\u001b[0m \u001b[39mdef\u001b[39;00m \u001b[39mdraw\u001b[39m(points, renderer, \u001b[39m*\u001b[39m, center\u001b[39m=\u001b[39mcenter):\n\u001b[0;32m--> 377\u001b[0m     beeswarm(points, center)\n\u001b[1;32m    379\u001b[0m     \u001b[39mif\u001b[39;00m \u001b[39mself\u001b[39m\u001b[39m.\u001b[39morient \u001b[39m==\u001b[39m \u001b[39m\"\u001b[39m\u001b[39mh\u001b[39m\u001b[39m\"\u001b[39m:\n\u001b[1;32m    380\u001b[0m         scalex \u001b[39m=\u001b[39m \u001b[39mFalse\u001b[39;00m\n",
      "File \u001b[0;32m~/.pyenv/versions/3.10.9/lib/python3.10/site-packages/seaborn/categorical.py:3400\u001b[0m, in \u001b[0;36mBeeswarm.__call__\u001b[0;34m(self, points, center)\u001b[0m\n\u001b[1;32m   3398\u001b[0m \u001b[39m# Adjust points along the categorical axis to prevent overlaps\u001b[39;00m\n\u001b[1;32m   3399\u001b[0m new_xyr \u001b[39m=\u001b[39m np\u001b[39m.\u001b[39mempty_like(orig_xyr)\n\u001b[0;32m-> 3400\u001b[0m new_xyr[sorter] \u001b[39m=\u001b[39m \u001b[39mself\u001b[39;49m\u001b[39m.\u001b[39;49mbeeswarm(orig_xyr)\n\u001b[1;32m   3402\u001b[0m \u001b[39m# Transform the point coordinates back to data coordinates\u001b[39;00m\n\u001b[1;32m   3403\u001b[0m \u001b[39mif\u001b[39;00m \u001b[39mself\u001b[39m\u001b[39m.\u001b[39morient \u001b[39m==\u001b[39m \u001b[39m\"\u001b[39m\u001b[39mh\u001b[39m\u001b[39m\"\u001b[39m:\n",
      "File \u001b[0;32m~/.pyenv/versions/3.10.9/lib/python3.10/site-packages/seaborn/categorical.py:3449\u001b[0m, in \u001b[0;36mBeeswarm.beeswarm\u001b[0;34m(self, orig_xyr)\u001b[0m\n\u001b[1;32m   3446\u001b[0m candidates \u001b[39m=\u001b[39m candidates[np\u001b[39m.\u001b[39margsort(offsets)]\n\u001b[1;32m   3448\u001b[0m \u001b[39m# Find the first candidate that does not overlap any neighbors\u001b[39;00m\n\u001b[0;32m-> 3449\u001b[0m new_xyr_i \u001b[39m=\u001b[39m \u001b[39mself\u001b[39;49m\u001b[39m.\u001b[39;49mfirst_non_overlapping_candidate(candidates, neighbors)\n\u001b[1;32m   3451\u001b[0m \u001b[39m# Place it into the swarm\u001b[39;00m\n\u001b[1;32m   3452\u001b[0m swarm \u001b[39m=\u001b[39m np\u001b[39m.\u001b[39mvstack([swarm, new_xyr_i])\n",
      "File \u001b[0;32m~/.pyenv/versions/3.10.9/lib/python3.10/site-packages/seaborn/categorical.py:3506\u001b[0m, in \u001b[0;36mBeeswarm.first_non_overlapping_candidate\u001b[0;34m(self, candidates, neighbors)\u001b[0m\n\u001b[1;32m   3503\u001b[0m dy \u001b[39m=\u001b[39m neighbors_y \u001b[39m-\u001b[39m y_i\n\u001b[1;32m   3504\u001b[0m sq_distances \u001b[39m=\u001b[39m np\u001b[39m.\u001b[39msquare(dx) \u001b[39m+\u001b[39m np\u001b[39m.\u001b[39msquare(dy)\n\u001b[0;32m-> 3506\u001b[0m sep_needed \u001b[39m=\u001b[39m np\u001b[39m.\u001b[39;49msquare(neighbors_r \u001b[39m+\u001b[39;49m r_i)\n\u001b[1;32m   3508\u001b[0m \u001b[39m# Good candidate does not overlap any of neighbors which means that\u001b[39;00m\n\u001b[1;32m   3509\u001b[0m \u001b[39m# squared distance between candidate and any of the neighbors has\u001b[39;00m\n\u001b[1;32m   3510\u001b[0m \u001b[39m# to be at least square of the summed radii\u001b[39;00m\n\u001b[1;32m   3511\u001b[0m good_candidate \u001b[39m=\u001b[39m np\u001b[39m.\u001b[39mall(sq_distances \u001b[39m>\u001b[39m\u001b[39m=\u001b[39m sep_needed)\n",
      "\u001b[0;31mKeyboardInterrupt\u001b[0m: "
     ]
    }
   ],
   "source": [
    "# Temporal coding with or without tones\n",
    "plt.figure(figsize=(.5,.75))\n",
    "sns.barplot(\n",
    "            data=tone_df.query(\"spatial_pvalue<.05\"),\n",
    "            x='day',\n",
    "            hue='task',\n",
    "            y='spatial_info',\n",
    "            #label=['no tones','tones'],\n",
    "            errorbar='se',\n",
    "            capsize=.5,\n",
    "            palette=['k', 'C0']\n",
    "            )\n",
    "plt.title('Spatial tuning')\n",
    "plt.ylabel('AMI')\n",
    "#plt.xticks([])\n",
    "plt.legend(bbox_to_anchor=(1.1, 1), loc='upper left', borderaxespad=0)\n",
    "#plt.savefig(os.path.join(params['path_to_results'],'figures', 'bar_spatial_noTone_vs_tone.pdf'))"
   ]
  },
  {
   "cell_type": "code",
   "execution_count": 157,
   "metadata": {},
   "outputs": [
    {
     "name": "stderr",
     "output_type": "stream",
     "text": [
      "/Users/guillaumeetter/.pyenv/versions/3.10.9/lib/python3.10/site-packages/scipy/stats/_continuous_distns.py:6832: RuntimeWarning: overflow encountered in _nct_sf\n",
      "  return np.clip(_boost._nct_sf(x, df, nc), 0, 1)\n",
      "/Users/guillaumeetter/.pyenv/versions/3.10.9/lib/python3.10/site-packages/scipy/stats/_continuous_distns.py:6826: RuntimeWarning: overflow encountered in _nct_cdf\n",
      "  return np.clip(_boost._nct_cdf(x, df, nc), 0, 1)\n"
     ]
    },
    {
     "data": {
      "text/html": [
       "<div>\n",
       "<style scoped>\n",
       "    .dataframe tbody tr th:only-of-type {\n",
       "        vertical-align: middle;\n",
       "    }\n",
       "\n",
       "    .dataframe tbody tr th {\n",
       "        vertical-align: top;\n",
       "    }\n",
       "\n",
       "    .dataframe thead th {\n",
       "        text-align: right;\n",
       "    }\n",
       "</style>\n",
       "<table border=\"1\" class=\"dataframe\">\n",
       "  <thead>\n",
       "    <tr style=\"text-align: right;\">\n",
       "      <th></th>\n",
       "      <th>T</th>\n",
       "      <th>dof</th>\n",
       "      <th>alternative</th>\n",
       "      <th>p-val</th>\n",
       "      <th>CI95%</th>\n",
       "      <th>cohen-d</th>\n",
       "      <th>BF10</th>\n",
       "      <th>power</th>\n",
       "    </tr>\n",
       "  </thead>\n",
       "  <tbody>\n",
       "    <tr>\n",
       "      <th>T-test</th>\n",
       "      <td>8.345895</td>\n",
       "      <td>8342.524536</td>\n",
       "      <td>two-sided</td>\n",
       "      <td>8.200943e-17</td>\n",
       "      <td>[0.0, 0.0]</td>\n",
       "      <td>0.179217</td>\n",
       "      <td>2.688e+13</td>\n",
       "      <td>1.0</td>\n",
       "    </tr>\n",
       "  </tbody>\n",
       "</table>\n",
       "</div>"
      ],
      "text/plain": [
       "               T          dof alternative         p-val       CI95%   cohen-d  \\\n",
       "T-test  8.345895  8342.524536   two-sided  8.200943e-17  [0.0, 0.0]  0.179217   \n",
       "\n",
       "             BF10  power  \n",
       "T-test  2.688e+13    1.0  "
      ]
     },
     "execution_count": 157,
     "metadata": {},
     "output_type": "execute_result"
    }
   ],
   "source": [
    "pg.ttest(x=tone_df.query(\"task=='legoLT' and spatial_pvalue<.05\")['spatial_info'],\n",
    "         y=tone_df.query(\"task=='legoSeqLT' and spatial_pvalue<.05\")['spatial_info'])"
   ]
  },
  {
   "cell_type": "code",
   "execution_count": 186,
   "metadata": {},
   "outputs": [
    {
     "ename": "ValueError",
     "evalue": "Unable to parse string \"legoLT\" at position 0",
     "output_type": "error",
     "traceback": [
      "\u001b[0;31m---------------------------------------------------------------------------\u001b[0m",
      "\u001b[0;31mValueError\u001b[0m                                Traceback (most recent call last)",
      "File \u001b[0;32m~/.pyenv/versions/3.10.9/lib/python3.10/site-packages/pandas/_libs/lib.pyx:2369\u001b[0m, in \u001b[0;36mpandas._libs.lib.maybe_convert_numeric\u001b[0;34m()\u001b[0m\n",
      "\u001b[0;31mValueError\u001b[0m: Unable to parse string \"legoLT\"",
      "\nDuring handling of the above exception, another exception occurred:\n",
      "\u001b[0;31mValueError\u001b[0m                                Traceback (most recent call last)",
      "Cell \u001b[0;32mIn[186], line 3\u001b[0m\n\u001b[1;32m      1\u001b[0m \u001b[39m# Temporal coding with or without tones\u001b[39;00m\n\u001b[1;32m      2\u001b[0m plt\u001b[39m.\u001b[39mfigure(figsize\u001b[39m=\u001b[39m(\u001b[39m2\u001b[39m,\u001b[39m.75\u001b[39m))\n\u001b[0;32m----> 3\u001b[0m sns\u001b[39m.\u001b[39;49mlineplot(\n\u001b[1;32m      4\u001b[0m             data\u001b[39m=\u001b[39;49mtone_df\u001b[39m.\u001b[39;49mquery(\u001b[39m\"\u001b[39;49m\u001b[39mdistance_pvalue<.05\u001b[39;49m\u001b[39m\"\u001b[39;49m),\n\u001b[1;32m      5\u001b[0m             x\u001b[39m=\u001b[39;49m\u001b[39m'\u001b[39;49m\u001b[39mday\u001b[39;49m\u001b[39m'\u001b[39;49m,\n\u001b[1;32m      6\u001b[0m             hue\u001b[39m=\u001b[39;49m\u001b[39m'\u001b[39;49m\u001b[39mtask\u001b[39;49m\u001b[39m'\u001b[39;49m,\n\u001b[1;32m      7\u001b[0m             y\u001b[39m=\u001b[39;49m\u001b[39m'\u001b[39;49m\u001b[39mdistance_info\u001b[39;49m\u001b[39m'\u001b[39;49m,\n\u001b[1;32m      8\u001b[0m             \u001b[39m#label=['no tones','tones'],\u001b[39;49;00m\n\u001b[1;32m      9\u001b[0m             errorbar\u001b[39m=\u001b[39;49m\u001b[39m'\u001b[39;49m\u001b[39mse\u001b[39;49m\u001b[39m'\u001b[39;49m,\n\u001b[1;32m     10\u001b[0m             hue_norm\u001b[39m=\u001b[39;49m(\u001b[39m0\u001b[39;49m,\u001b[39m1\u001b[39;49m),\n\u001b[1;32m     11\u001b[0m             \u001b[39m#capsize=.5,\u001b[39;49;00m\n\u001b[1;32m     12\u001b[0m             \u001b[39m#palette=['k', 'C0']\u001b[39;49;00m\n\u001b[1;32m     13\u001b[0m             )\n\u001b[1;32m     14\u001b[0m plt\u001b[39m.\u001b[39mtitle(\u001b[39m'\u001b[39m\u001b[39mdistance tuning\u001b[39m\u001b[39m'\u001b[39m)\n\u001b[1;32m     15\u001b[0m plt\u001b[39m.\u001b[39mylabel(\u001b[39m'\u001b[39m\u001b[39mAMI\u001b[39m\u001b[39m'\u001b[39m)\n",
      "File \u001b[0;32m~/.pyenv/versions/3.10.9/lib/python3.10/site-packages/seaborn/relational.py:625\u001b[0m, in \u001b[0;36mlineplot\u001b[0;34m(data, x, y, hue, size, style, units, palette, hue_order, hue_norm, sizes, size_order, size_norm, dashes, markers, style_order, estimator, errorbar, n_boot, seed, orient, sort, err_style, err_kws, legend, ci, ax, **kwargs)\u001b[0m\n\u001b[1;32m    617\u001b[0m variables \u001b[39m=\u001b[39m _LinePlotter\u001b[39m.\u001b[39mget_semantics(\u001b[39mlocals\u001b[39m())\n\u001b[1;32m    618\u001b[0m p \u001b[39m=\u001b[39m _LinePlotter(\n\u001b[1;32m    619\u001b[0m     data\u001b[39m=\u001b[39mdata, variables\u001b[39m=\u001b[39mvariables,\n\u001b[1;32m    620\u001b[0m     estimator\u001b[39m=\u001b[39mestimator, n_boot\u001b[39m=\u001b[39mn_boot, seed\u001b[39m=\u001b[39mseed, errorbar\u001b[39m=\u001b[39merrorbar,\n\u001b[1;32m    621\u001b[0m     sort\u001b[39m=\u001b[39msort, orient\u001b[39m=\u001b[39morient, err_style\u001b[39m=\u001b[39merr_style, err_kws\u001b[39m=\u001b[39merr_kws,\n\u001b[1;32m    622\u001b[0m     legend\u001b[39m=\u001b[39mlegend,\n\u001b[1;32m    623\u001b[0m )\n\u001b[0;32m--> 625\u001b[0m p\u001b[39m.\u001b[39;49mmap_hue(palette\u001b[39m=\u001b[39;49mpalette, order\u001b[39m=\u001b[39;49mhue_order, norm\u001b[39m=\u001b[39;49mhue_norm)\n\u001b[1;32m    626\u001b[0m p\u001b[39m.\u001b[39mmap_size(sizes\u001b[39m=\u001b[39msizes, order\u001b[39m=\u001b[39msize_order, norm\u001b[39m=\u001b[39msize_norm)\n\u001b[1;32m    627\u001b[0m p\u001b[39m.\u001b[39mmap_style(markers\u001b[39m=\u001b[39mmarkers, dashes\u001b[39m=\u001b[39mdashes, order\u001b[39m=\u001b[39mstyle_order)\n",
      "File \u001b[0;32m~/.pyenv/versions/3.10.9/lib/python3.10/site-packages/seaborn/_oldcore.py:55\u001b[0m, in \u001b[0;36mSemanticMapping.map\u001b[0;34m(cls, plotter, *args, **kwargs)\u001b[0m\n\u001b[1;32m     52\u001b[0m \u001b[39mdef\u001b[39;00m \u001b[39mmap\u001b[39m(\u001b[39mcls\u001b[39m, plotter, \u001b[39m*\u001b[39margs, \u001b[39m*\u001b[39m\u001b[39m*\u001b[39mkwargs):\n\u001b[1;32m     53\u001b[0m     \u001b[39m# This method is assigned the __init__ docstring\u001b[39;00m\n\u001b[1;32m     54\u001b[0m     method_name \u001b[39m=\u001b[39m \u001b[39mf\u001b[39m\u001b[39m\"\u001b[39m\u001b[39m_\u001b[39m\u001b[39m{\u001b[39;00m\u001b[39mcls\u001b[39m\u001b[39m.\u001b[39m\u001b[39m__name__\u001b[39m[:\u001b[39m-\u001b[39m\u001b[39m7\u001b[39m]\u001b[39m.\u001b[39mlower()\u001b[39m}\u001b[39;00m\u001b[39m_map\u001b[39m\u001b[39m\"\u001b[39m\n\u001b[0;32m---> 55\u001b[0m     \u001b[39msetattr\u001b[39m(plotter, method_name, \u001b[39mcls\u001b[39;49m(plotter, \u001b[39m*\u001b[39;49margs, \u001b[39m*\u001b[39;49m\u001b[39m*\u001b[39;49mkwargs))\n\u001b[1;32m     56\u001b[0m     \u001b[39mreturn\u001b[39;00m plotter\n",
      "File \u001b[0;32m~/.pyenv/versions/3.10.9/lib/python3.10/site-packages/seaborn/_oldcore.py:138\u001b[0m, in \u001b[0;36mHueMapping.__init__\u001b[0;34m(self, plotter, palette, order, norm)\u001b[0m\n\u001b[1;32m    130\u001b[0m \u001b[39m# Our goal is to end up with a dictionary mapping every unique\u001b[39;00m\n\u001b[1;32m    131\u001b[0m \u001b[39m# value in `data` to a color. We will also keep track of the\u001b[39;00m\n\u001b[1;32m    132\u001b[0m \u001b[39m# metadata about this mapping we will need for, e.g., a legend\u001b[39;00m\n\u001b[1;32m    133\u001b[0m \n\u001b[1;32m    134\u001b[0m \u001b[39m# --- Option 1: numeric mapping with a matplotlib colormap\u001b[39;00m\n\u001b[1;32m    136\u001b[0m \u001b[39mif\u001b[39;00m map_type \u001b[39m==\u001b[39m \u001b[39m\"\u001b[39m\u001b[39mnumeric\u001b[39m\u001b[39m\"\u001b[39m:\n\u001b[0;32m--> 138\u001b[0m     data \u001b[39m=\u001b[39m pd\u001b[39m.\u001b[39;49mto_numeric(data)\n\u001b[1;32m    139\u001b[0m     levels, lookup_table, norm, cmap \u001b[39m=\u001b[39m \u001b[39mself\u001b[39m\u001b[39m.\u001b[39mnumeric_mapping(\n\u001b[1;32m    140\u001b[0m         data, palette, norm,\n\u001b[1;32m    141\u001b[0m     )\n\u001b[1;32m    143\u001b[0m \u001b[39m# --- Option 2: categorical mapping using seaborn palette\u001b[39;00m\n",
      "File \u001b[0;32m~/.pyenv/versions/3.10.9/lib/python3.10/site-packages/pandas/core/tools/numeric.py:185\u001b[0m, in \u001b[0;36mto_numeric\u001b[0;34m(arg, errors, downcast)\u001b[0m\n\u001b[1;32m    183\u001b[0m coerce_numeric \u001b[39m=\u001b[39m errors \u001b[39mnot\u001b[39;00m \u001b[39min\u001b[39;00m (\u001b[39m\"\u001b[39m\u001b[39mignore\u001b[39m\u001b[39m\"\u001b[39m, \u001b[39m\"\u001b[39m\u001b[39mraise\u001b[39m\u001b[39m\"\u001b[39m)\n\u001b[1;32m    184\u001b[0m \u001b[39mtry\u001b[39;00m:\n\u001b[0;32m--> 185\u001b[0m     values, _ \u001b[39m=\u001b[39m lib\u001b[39m.\u001b[39;49mmaybe_convert_numeric(\n\u001b[1;32m    186\u001b[0m         values, \u001b[39mset\u001b[39;49m(), coerce_numeric\u001b[39m=\u001b[39;49mcoerce_numeric\n\u001b[1;32m    187\u001b[0m     )\n\u001b[1;32m    188\u001b[0m \u001b[39mexcept\u001b[39;00m (\u001b[39mValueError\u001b[39;00m, \u001b[39mTypeError\u001b[39;00m):\n\u001b[1;32m    189\u001b[0m     \u001b[39mif\u001b[39;00m errors \u001b[39m==\u001b[39m \u001b[39m\"\u001b[39m\u001b[39mraise\u001b[39m\u001b[39m\"\u001b[39m:\n",
      "File \u001b[0;32m~/.pyenv/versions/3.10.9/lib/python3.10/site-packages/pandas/_libs/lib.pyx:2411\u001b[0m, in \u001b[0;36mpandas._libs.lib.maybe_convert_numeric\u001b[0;34m()\u001b[0m\n",
      "\u001b[0;31mValueError\u001b[0m: Unable to parse string \"legoLT\" at position 0"
     ]
    },
    {
     "data": {
      "text/plain": [
       "<Figure size 600x225 with 0 Axes>"
      ]
     },
     "metadata": {},
     "output_type": "display_data"
    }
   ],
   "source": [
    "# Temporal coding with or without tones\n",
    "plt.figure(figsize=(2,.75))\n",
    "sns.lineplot(\n",
    "            data=tone_df.query(\"distance_pvalue<.05\"),\n",
    "            x='day',\n",
    "            hue='task',\n",
    "            y='distance_info',\n",
    "            #label=['no tones','tones'],\n",
    "            errorbar='se',\n",
    "            hue_norm=(0,1),\n",
    "            #capsize=.5,\n",
    "            #palette=['k', 'C0']\n",
    "            )\n",
    "plt.title('distance tuning')\n",
    "plt.ylabel('AMI')\n",
    "#plt.xticks([])\n",
    "plt.legend(bbox_to_anchor=(1.1, 1), loc='upper left', borderaxespad=0)\n",
    "#plt.savefig(os.path.join(params['path_to_results'],'figures', 'lines_overDays_temporal_noTone_vs_tone.pdf'))"
   ]
  },
  {
   "cell_type": "code",
   "execution_count": null,
   "metadata": {},
   "outputs": [],
   "source": []
  }
 ],
 "metadata": {
  "kernelspec": {
   "display_name": "Python 3",
   "language": "python",
   "name": "python3"
  },
  "language_info": {
   "codemirror_mode": {
    "name": "ipython",
    "version": 3
   },
   "file_extension": ".py",
   "mimetype": "text/x-python",
   "name": "python",
   "nbconvert_exporter": "python",
   "pygments_lexer": "ipython3",
   "version": "3.10.9"
  },
  "orig_nbformat": 4
 },
 "nbformat": 4,
 "nbformat_minor": 2
}
